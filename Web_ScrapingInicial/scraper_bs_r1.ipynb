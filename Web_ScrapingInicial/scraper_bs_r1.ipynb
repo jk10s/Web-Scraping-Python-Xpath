{
 "cells": [
  {
   "cell_type": "code",
   "execution_count": 1,
   "metadata": {},
   "outputs": [],
   "source": [
    "import requests\n",
    "import bs4\n",
    "from bs4 import BeautifulSoup\n",
    "from urllib.parse import urljoin\n",
    "import pandas as pd"
   ]
  },
  {
   "cell_type": "code",
   "execution_count": 25,
   "metadata": {},
   "outputs": [],
   "source": [
    "#si ya ejecutaste el bucle while debes volver a ejcutar esto para que tome la url base de nuevo\n",
    "url_inicial='https://books.toscrape.com/index.html'\n",
    "url_root='https://books.toscrape.com/index.html'"
   ]
  },
  {
   "cell_type": "code",
   "execution_count": 3,
   "metadata": {},
   "outputs": [],
   "source": [
    "r=requests.get(url_inicial)"
   ]
  },
  {
   "cell_type": "code",
   "execution_count": 4,
   "metadata": {},
   "outputs": [
    {
     "data": {
      "text/plain": [
       "{'Server': 'nginx/1.17.7', 'Date': 'Sun, 25 Jul 2021 01:56:22 GMT', 'Content-Type': 'text/html', 'Transfer-Encoding': 'chunked', 'Connection': 'keep-alive', 'Vary': 'Accept-Encoding', 'Last-Modified': 'Thu, 25 Mar 2021 13:59:05 GMT', 'Strict-Transport-Security': 'max-age=15724800; includeSubDomains', 'Content-Encoding': 'gzip'}"
      ]
     },
     "execution_count": 4,
     "metadata": {},
     "output_type": "execute_result"
    }
   ],
   "source": [
    "r.headers"
   ]
  },
  {
   "cell_type": "code",
   "execution_count": 5,
   "metadata": {},
   "outputs": [
    {
     "data": {
      "text/plain": [
       "{'User-Agent': 'python-requests/2.24.0', 'Accept-Encoding': 'gzip, deflate', 'Accept': '*/*', 'Connection': 'keep-alive'}"
      ]
     },
     "execution_count": 5,
     "metadata": {},
     "output_type": "execute_result"
    }
   ],
   "source": [
    "r.request.headers"
   ]
  },
  {
   "cell_type": "code",
   "execution_count": 6,
   "metadata": {},
   "outputs": [
    {
     "data": {
      "text/plain": [
       "200"
      ]
     },
     "execution_count": 6,
     "metadata": {},
     "output_type": "execute_result"
    }
   ],
   "source": [
    "r.status_code"
   ]
  },
  {
   "cell_type": "code",
   "execution_count": 7,
   "metadata": {},
   "outputs": [],
   "source": [
    "s=BeautifulSoup(r.text, 'lxml')"
   ]
  },
  {
   "cell_type": "code",
   "execution_count": 8,
   "metadata": {},
   "outputs": [
    {
     "data": {
      "text/plain": [
       "['https://books.toscrape.com/catalogue/a-light-in-the-attic_1000/index.html',\n",
       " 'https://books.toscrape.com/catalogue/tipping-the-velvet_999/index.html',\n",
       " 'https://books.toscrape.com/catalogue/soumission_998/index.html',\n",
       " 'https://books.toscrape.com/catalogue/sharp-objects_997/index.html',\n",
       " 'https://books.toscrape.com/catalogue/sapiens-a-brief-history-of-humankind_996/index.html',\n",
       " 'https://books.toscrape.com/catalogue/the-requiem-red_995/index.html',\n",
       " 'https://books.toscrape.com/catalogue/the-dirty-little-secrets-of-getting-your-dream-job_994/index.html',\n",
       " 'https://books.toscrape.com/catalogue/the-coming-woman-a-novel-based-on-the-life-of-the-infamous-feminist-victoria-woodhull_993/index.html',\n",
       " 'https://books.toscrape.com/catalogue/the-boys-in-the-boat-nine-americans-and-their-epic-quest-for-gold-at-the-1936-berlin-olympics_992/index.html',\n",
       " 'https://books.toscrape.com/catalogue/the-black-maria_991/index.html',\n",
       " 'https://books.toscrape.com/catalogue/starving-hearts-triangular-trade-trilogy-1_990/index.html',\n",
       " 'https://books.toscrape.com/catalogue/shakespeares-sonnets_989/index.html',\n",
       " 'https://books.toscrape.com/catalogue/set-me-free_988/index.html',\n",
       " 'https://books.toscrape.com/catalogue/scott-pilgrims-precious-little-life-scott-pilgrim-1_987/index.html',\n",
       " 'https://books.toscrape.com/catalogue/rip-it-up-and-start-again_986/index.html',\n",
       " 'https://books.toscrape.com/catalogue/our-band-could-be-your-life-scenes-from-the-american-indie-underground-1981-1991_985/index.html',\n",
       " 'https://books.toscrape.com/catalogue/olio_984/index.html',\n",
       " 'https://books.toscrape.com/catalogue/mesaerion-the-best-science-fiction-stories-1800-1849_983/index.html',\n",
       " 'https://books.toscrape.com/catalogue/libertarianism-for-beginners_982/index.html',\n",
       " 'https://books.toscrape.com/catalogue/its-only-the-himalayas_981/index.html']"
      ]
     },
     "execution_count": 8,
     "metadata": {},
     "output_type": "execute_result"
    }
   ],
   "source": [
    "lista_article=s.find_all('article', class_='product_pod')\n",
    "links_libros=[x.find('h3').find('a').get('href') for x in lista_article]\n",
    "links_libros=[urljoin(url_root,i) for i in links_libros]\n",
    "links_libros"
   ]
  },
  {
   "cell_type": "code",
   "execution_count": 9,
   "metadata": {},
   "outputs": [],
   "source": [
    "#funcion de obtener links\\\n",
    "#en esta funcion no referenciaba los parametros\n",
    "#disculpas error de dedo, la funcion correcta es asi\n",
    "def get_url_items(sopa, url):\n",
    "    #url_root='https://books.toscrape.com/index.html' \n",
    "    lista_article=sopa.find_all('article', class_='product_pod')\n",
    "    links_libros=[x.find('h3').find('a').get('href') for x in lista_article]\n",
    "    links_libros=[urljoin(url,i) for i in links_libros]\n",
    "    return links_libros"
   ]
  },
  {
   "cell_type": "code",
   "execution_count": 10,
   "metadata": {},
   "outputs": [
    {
     "name": "stdout",
     "output_type": "stream",
     "text": [
      "Estoy en la pagina https://books.toscrape.com/index.html\n",
      "Estoy en la pagina https://books.toscrape.com/catalogue/page-2.html\n",
      "Estoy en la pagina https://books.toscrape.com/catalogue/page-3.html\n",
      "Estoy en la pagina https://books.toscrape.com/catalogue/page-4.html\n",
      "Estoy en la pagina https://books.toscrape.com/catalogue/page-5.html\n",
      "Estoy en la pagina https://books.toscrape.com/catalogue/page-6.html\n",
      "Estoy en la pagina https://books.toscrape.com/catalogue/page-7.html\n",
      "Estoy en la pagina https://books.toscrape.com/catalogue/page-8.html\n",
      "Estoy en la pagina https://books.toscrape.com/catalogue/page-9.html\n",
      "Estoy en la pagina https://books.toscrape.com/catalogue/page-10.html\n",
      "Estoy en la pagina https://books.toscrape.com/catalogue/page-11.html\n",
      "Estoy en la pagina https://books.toscrape.com/catalogue/page-12.html\n",
      "Estoy en la pagina https://books.toscrape.com/catalogue/page-13.html\n",
      "Estoy en la pagina https://books.toscrape.com/catalogue/page-14.html\n",
      "Estoy en la pagina https://books.toscrape.com/catalogue/page-15.html\n",
      "Estoy en la pagina https://books.toscrape.com/catalogue/page-16.html\n",
      "Estoy en la pagina https://books.toscrape.com/catalogue/page-17.html\n",
      "Estoy en la pagina https://books.toscrape.com/catalogue/page-18.html\n",
      "Estoy en la pagina https://books.toscrape.com/catalogue/page-19.html\n",
      "Estoy en la pagina https://books.toscrape.com/catalogue/page-20.html\n",
      "Estoy en la pagina https://books.toscrape.com/catalogue/page-21.html\n",
      "Estoy en la pagina https://books.toscrape.com/catalogue/page-22.html\n",
      "Estoy en la pagina https://books.toscrape.com/catalogue/page-23.html\n",
      "Estoy en la pagina https://books.toscrape.com/catalogue/page-24.html\n",
      "Estoy en la pagina https://books.toscrape.com/catalogue/page-25.html\n",
      "Estoy en la pagina https://books.toscrape.com/catalogue/page-26.html\n",
      "Estoy en la pagina https://books.toscrape.com/catalogue/page-27.html\n",
      "Estoy en la pagina https://books.toscrape.com/catalogue/page-28.html\n",
      "Estoy en la pagina https://books.toscrape.com/catalogue/page-29.html\n",
      "Estoy en la pagina https://books.toscrape.com/catalogue/page-30.html\n",
      "Estoy en la pagina https://books.toscrape.com/catalogue/page-31.html\n",
      "Estoy en la pagina https://books.toscrape.com/catalogue/page-32.html\n",
      "Estoy en la pagina https://books.toscrape.com/catalogue/page-33.html\n",
      "Estoy en la pagina https://books.toscrape.com/catalogue/page-34.html\n",
      "Estoy en la pagina https://books.toscrape.com/catalogue/page-35.html\n",
      "Estoy en la pagina https://books.toscrape.com/catalogue/page-36.html\n",
      "Estoy en la pagina https://books.toscrape.com/catalogue/page-37.html\n",
      "Estoy en la pagina https://books.toscrape.com/catalogue/page-38.html\n",
      "Estoy en la pagina https://books.toscrape.com/catalogue/page-39.html\n",
      "Estoy en la pagina https://books.toscrape.com/catalogue/page-40.html\n",
      "Estoy en la pagina https://books.toscrape.com/catalogue/page-41.html\n",
      "Estoy en la pagina https://books.toscrape.com/catalogue/page-42.html\n",
      "Estoy en la pagina https://books.toscrape.com/catalogue/page-43.html\n",
      "Estoy en la pagina https://books.toscrape.com/catalogue/page-44.html\n",
      "Estoy en la pagina https://books.toscrape.com/catalogue/page-45.html\n",
      "Estoy en la pagina https://books.toscrape.com/catalogue/page-46.html\n",
      "Estoy en la pagina https://books.toscrape.com/catalogue/page-47.html\n",
      "Estoy en la pagina https://books.toscrape.com/catalogue/page-48.html\n",
      "Estoy en la pagina https://books.toscrape.com/catalogue/page-49.html\n",
      "Estoy en la pagina https://books.toscrape.com/catalogue/page-50.html\n"
     ]
    }
   ],
   "source": [
    "#cada vez que ejecutas esto la url_inicial se sobreescribe\n",
    "#debes volver a ejecutar el chonk en donde esta la variable url_inicial original para\n",
    "#volver a ejecutar esto, si no solo te tomara la ultima url de la pag 50\n",
    "links_items=[]\n",
    "i=0\n",
    "while i<50:\n",
    "    i+=1\n",
    "    print(f'Estoy en la pagina {url_inicial}')\n",
    "    r_pag=requests.get(url_inicial)\n",
    "    s_p=BeautifulSoup(r_pag.text,'lxml')\n",
    "    links=get_url_items(s_p, url_inicial)\n",
    "    links_items.append(links) #el append se debe ser aqui (esto fue un error de logica) sabes por qué?\n",
    "    next_a=s_p.select('li.next > a')\n",
    "    if not next_a or not next_a[0].get('href'):\n",
    "        break\n",
    "    url_inicial = urljoin(url_inicial, next_a[0].get('href'))\n",
    "    "
   ]
  },
  {
   "cell_type": "code",
   "execution_count": 11,
   "metadata": {},
   "outputs": [
    {
     "data": {
      "text/plain": [
       "1000"
      ]
     },
     "execution_count": 11,
     "metadata": {},
     "output_type": "execute_result"
    }
   ],
   "source": [
    "list_scraper=[]\n",
    "for i in links_items:\n",
    "    for j in i:\n",
    "        list_scraper.append(j)\n",
    "len(list_scraper)"
   ]
  },
  {
   "cell_type": "code",
   "execution_count": 13,
   "metadata": {},
   "outputs": [],
   "source": [
    "uno=list_scraper[0]\n",
    "r_item=requests.get(uno)\n",
    "s_item=BeautifulSoup(r_item.text, 'lxml')"
   ]
  },
  {
   "cell_type": "code",
   "execution_count": 14,
   "metadata": {},
   "outputs": [],
   "source": [
    "from IPython.display import Image"
   ]
  },
  {
   "cell_type": "code",
   "execution_count": null,
   "metadata": {},
   "outputs": [],
   "source": []
  },
  {
   "cell_type": "code",
   "execution_count": 15,
   "metadata": {},
   "outputs": [],
   "source": [
    "#titulo del libro\n",
    "titulo=s_item.find('h1').get_text(strip=True)\n",
    "#obtener ptrecio\n",
    "precio=s_item.find('p', class_='price_color').get_text(strip=True)\n",
    "#obtener la descripcion de producto\n",
    "ancla_desc=s_item.find('div', id='product_description')\n",
    "text_descripciopn=ancla_desc.find_next_sibling('p').get_text(strip=True)\n",
    "#obtener imagen\n",
    "src_img=s_item.find('div', class_='item active').find('img').get('src')\n",
    "src_img=urljoin(url_root,src_img)\n"
   ]
  },
  {
   "cell_type": "code",
   "execution_count": 16,
   "metadata": {},
   "outputs": [],
   "source": [
    "#funcion para iniciar el escraper de cada libro\n",
    "def scraper_book(url):\n",
    "    content_book={}\n",
    "    r=requests.get(url)\n",
    "    s_item=BeautifulSoup(r.text,'lxml')\n",
    "    #titulo del libro\n",
    "    titulo=s_item.find('h1').get_text(strip=True)\n",
    "    if titulo:\n",
    "        content_book['Titulo']=titulo\n",
    "    else :\n",
    "        content_book['Titulo']=None\n",
    "    #obtener ptrecio\n",
    "    precio=s_item.find('p', class_='price_color').get_text(strip=True)\n",
    "    if precio:\n",
    "        content_book['Precio']=precio\n",
    "    else :\n",
    "        content_book['Precio']=None\n",
    "    #obtener la descripcion de producto\n",
    "    ancla_desc=s_item.find('div', id='product_description')\n",
    "    if ancla_desc:\n",
    "        content_book['Descripcion']=ancla_desc.find_next_sibling('p').get_text(strip=True)\n",
    "    else :\n",
    "        content_book['Descripcion']=None\n",
    "    #obtener imagen\n",
    "    src_img=s_item.find('div', class_='item active').find('img').get('src')\n",
    "    if src_img:\n",
    "        content_book['Url_img']=urljoin(url_root,src_img)\n",
    "    else :\n",
    "        content_book['Url_img']=None\n",
    "    return content_book"
   ]
  },
  {
   "cell_type": "code",
   "execution_count": 17,
   "metadata": {},
   "outputs": [
    {
     "name": "stdout",
     "output_type": "stream",
     "text": [
      "estas escrapeando la pag 0\n",
      "estas escrapeando la pag 1\n",
      "estas escrapeando la pag 2\n",
      "estas escrapeando la pag 3\n",
      "estas escrapeando la pag 4\n",
      "estas escrapeando la pag 5\n",
      "estas escrapeando la pag 6\n",
      "estas escrapeando la pag 7\n",
      "estas escrapeando la pag 8\n",
      "estas escrapeando la pag 9\n"
     ]
    }
   ],
   "source": [
    "list_scraper=list_scraper[0:10]\n",
    "datos_book=[]\n",
    "for idx, i in enumerate(list_scraper):\n",
    "    print(f'estas escrapeando la pag {idx}')\n",
    "    datos_book.append(scraper_book(i))"
   ]
  },
  {
   "cell_type": "code",
   "execution_count": 18,
   "metadata": {},
   "outputs": [
    {
     "data": {
      "text/html": [
       "<div>\n",
       "<style scoped>\n",
       "    .dataframe tbody tr th:only-of-type {\n",
       "        vertical-align: middle;\n",
       "    }\n",
       "\n",
       "    .dataframe tbody tr th {\n",
       "        vertical-align: top;\n",
       "    }\n",
       "\n",
       "    .dataframe thead th {\n",
       "        text-align: right;\n",
       "    }\n",
       "</style>\n",
       "<table border=\"1\" class=\"dataframe\">\n",
       "  <thead>\n",
       "    <tr style=\"text-align: right;\">\n",
       "      <th></th>\n",
       "      <th>Titulo</th>\n",
       "      <th>Precio</th>\n",
       "      <th>Descripcion</th>\n",
       "      <th>Url_img</th>\n",
       "    </tr>\n",
       "  </thead>\n",
       "  <tbody>\n",
       "    <tr>\n",
       "      <th>0</th>\n",
       "      <td>A Light in the Attic</td>\n",
       "      <td>Â£51.77</td>\n",
       "      <td>It's hard to imagine a world without A Light i...</td>\n",
       "      <td>https://books.toscrape.com/media/cache/fe/72/f...</td>\n",
       "    </tr>\n",
       "    <tr>\n",
       "      <th>1</th>\n",
       "      <td>Tipping the Velvet</td>\n",
       "      <td>Â£53.74</td>\n",
       "      <td>\"Erotic and absorbing...Written with starling ...</td>\n",
       "      <td>https://books.toscrape.com/media/cache/08/e9/0...</td>\n",
       "    </tr>\n",
       "    <tr>\n",
       "      <th>2</th>\n",
       "      <td>Soumission</td>\n",
       "      <td>Â£50.10</td>\n",
       "      <td>Dans une France assez proche de la nÃ´tre, un ...</td>\n",
       "      <td>https://books.toscrape.com/media/cache/ee/cf/e...</td>\n",
       "    </tr>\n",
       "    <tr>\n",
       "      <th>3</th>\n",
       "      <td>Sharp Objects</td>\n",
       "      <td>Â£47.82</td>\n",
       "      <td>WICKED above her hipbone, GIRL across her hear...</td>\n",
       "      <td>https://books.toscrape.com/media/cache/c0/59/c...</td>\n",
       "    </tr>\n",
       "    <tr>\n",
       "      <th>4</th>\n",
       "      <td>Sapiens: A Brief History of Humankind</td>\n",
       "      <td>Â£54.23</td>\n",
       "      <td>From a renowned historian comes a groundbreaki...</td>\n",
       "      <td>https://books.toscrape.com/media/cache/ce/5f/c...</td>\n",
       "    </tr>\n",
       "    <tr>\n",
       "      <th>5</th>\n",
       "      <td>The Requiem Red</td>\n",
       "      <td>Â£22.65</td>\n",
       "      <td>Patient Twenty-nine.A monster roams the halls ...</td>\n",
       "      <td>https://books.toscrape.com/media/cache/6b/07/6...</td>\n",
       "    </tr>\n",
       "    <tr>\n",
       "      <th>6</th>\n",
       "      <td>The Dirty Little Secrets of Getting Your Dream...</td>\n",
       "      <td>Â£33.34</td>\n",
       "      <td>Drawing on his extensive experience evaluating...</td>\n",
       "      <td>https://books.toscrape.com/media/cache/e1/1b/e...</td>\n",
       "    </tr>\n",
       "    <tr>\n",
       "      <th>7</th>\n",
       "      <td>The Coming Woman: A Novel Based on the Life of...</td>\n",
       "      <td>Â£17.93</td>\n",
       "      <td>\"If you have a heart, if you have a soul, Kare...</td>\n",
       "      <td>https://books.toscrape.com/media/cache/97/36/9...</td>\n",
       "    </tr>\n",
       "    <tr>\n",
       "      <th>8</th>\n",
       "      <td>The Boys in the Boat: Nine Americans and Their...</td>\n",
       "      <td>Â£22.60</td>\n",
       "      <td>For readers of Laura Hillenbrand's Seabiscuit ...</td>\n",
       "      <td>https://books.toscrape.com/media/cache/d1/2d/d...</td>\n",
       "    </tr>\n",
       "    <tr>\n",
       "      <th>9</th>\n",
       "      <td>The Black Maria</td>\n",
       "      <td>Â£52.15</td>\n",
       "      <td>Praise for Aracelis Girmay:\"[Girmay's] every l...</td>\n",
       "      <td>https://books.toscrape.com/media/cache/d1/7a/d...</td>\n",
       "    </tr>\n",
       "  </tbody>\n",
       "</table>\n",
       "</div>"
      ],
      "text/plain": [
       "                                              Titulo   Precio  \\\n",
       "0                               A Light in the Attic  Â£51.77   \n",
       "1                                 Tipping the Velvet  Â£53.74   \n",
       "2                                         Soumission  Â£50.10   \n",
       "3                                      Sharp Objects  Â£47.82   \n",
       "4              Sapiens: A Brief History of Humankind  Â£54.23   \n",
       "5                                    The Requiem Red  Â£22.65   \n",
       "6  The Dirty Little Secrets of Getting Your Dream...  Â£33.34   \n",
       "7  The Coming Woman: A Novel Based on the Life of...  Â£17.93   \n",
       "8  The Boys in the Boat: Nine Americans and Their...  Â£22.60   \n",
       "9                                    The Black Maria  Â£52.15   \n",
       "\n",
       "                                         Descripcion  \\\n",
       "0  It's hard to imagine a world without A Light i...   \n",
       "1  \"Erotic and absorbing...Written with starling ...   \n",
       "2  Dans une France assez proche de la nÃ´tre, un ...   \n",
       "3  WICKED above her hipbone, GIRL across her hear...   \n",
       "4  From a renowned historian comes a groundbreaki...   \n",
       "5  Patient Twenty-nine.A monster roams the halls ...   \n",
       "6  Drawing on his extensive experience evaluating...   \n",
       "7  \"If you have a heart, if you have a soul, Kare...   \n",
       "8  For readers of Laura Hillenbrand's Seabiscuit ...   \n",
       "9  Praise for Aracelis Girmay:\"[Girmay's] every l...   \n",
       "\n",
       "                                             Url_img  \n",
       "0  https://books.toscrape.com/media/cache/fe/72/f...  \n",
       "1  https://books.toscrape.com/media/cache/08/e9/0...  \n",
       "2  https://books.toscrape.com/media/cache/ee/cf/e...  \n",
       "3  https://books.toscrape.com/media/cache/c0/59/c...  \n",
       "4  https://books.toscrape.com/media/cache/ce/5f/c...  \n",
       "5  https://books.toscrape.com/media/cache/6b/07/6...  \n",
       "6  https://books.toscrape.com/media/cache/e1/1b/e...  \n",
       "7  https://books.toscrape.com/media/cache/97/36/9...  \n",
       "8  https://books.toscrape.com/media/cache/d1/2d/d...  \n",
       "9  https://books.toscrape.com/media/cache/d1/7a/d...  "
      ]
     },
     "execution_count": 18,
     "metadata": {},
     "output_type": "execute_result"
    }
   ],
   "source": [
    "df_catalogo=pd.DataFrame(datos_book)\n",
    "df_catalogo"
   ]
  },
  {
   "cell_type": "code",
   "execution_count": 19,
   "metadata": {},
   "outputs": [],
   "source": [
    "from IPython.core.display import HTML\n",
    "\n",
    "def path_html_img(url):\n",
    "    return '<img src=\"'+url+'\"width=\"60\" >'"
   ]
  },
  {
   "cell_type": "code",
   "execution_count": 20,
   "metadata": {},
   "outputs": [
    {
     "data": {
      "text/html": [
       "<div>\n",
       "<style scoped>\n",
       "    .dataframe tbody tr th:only-of-type {\n",
       "        vertical-align: middle;\n",
       "    }\n",
       "\n",
       "    .dataframe tbody tr th {\n",
       "        vertical-align: top;\n",
       "    }\n",
       "\n",
       "    .dataframe thead th {\n",
       "        text-align: right;\n",
       "    }\n",
       "</style>\n",
       "<table border=\"1\" class=\"dataframe\">\n",
       "  <thead>\n",
       "    <tr style=\"text-align: right;\">\n",
       "      <th></th>\n",
       "      <th>Titulo</th>\n",
       "      <th>Precio</th>\n",
       "      <th>Descripcion</th>\n",
       "      <th>Url_img</th>\n",
       "      <th>Vis_img</th>\n",
       "    </tr>\n",
       "  </thead>\n",
       "  <tbody>\n",
       "    <tr>\n",
       "      <th>0</th>\n",
       "      <td>A Light in the Attic</td>\n",
       "      <td>Â£51.77</td>\n",
       "      <td>It's hard to imagine a world without A Light i...</td>\n",
       "      <td>https://books.toscrape.com/media/cache/fe/72/f...</td>\n",
       "      <td>&lt;img src=\"https://books.toscrape.com/media/cac...</td>\n",
       "    </tr>\n",
       "    <tr>\n",
       "      <th>1</th>\n",
       "      <td>Tipping the Velvet</td>\n",
       "      <td>Â£53.74</td>\n",
       "      <td>\"Erotic and absorbing...Written with starling ...</td>\n",
       "      <td>https://books.toscrape.com/media/cache/08/e9/0...</td>\n",
       "      <td>&lt;img src=\"https://books.toscrape.com/media/cac...</td>\n",
       "    </tr>\n",
       "    <tr>\n",
       "      <th>2</th>\n",
       "      <td>Soumission</td>\n",
       "      <td>Â£50.10</td>\n",
       "      <td>Dans une France assez proche de la nÃ´tre, un ...</td>\n",
       "      <td>https://books.toscrape.com/media/cache/ee/cf/e...</td>\n",
       "      <td>&lt;img src=\"https://books.toscrape.com/media/cac...</td>\n",
       "    </tr>\n",
       "    <tr>\n",
       "      <th>3</th>\n",
       "      <td>Sharp Objects</td>\n",
       "      <td>Â£47.82</td>\n",
       "      <td>WICKED above her hipbone, GIRL across her hear...</td>\n",
       "      <td>https://books.toscrape.com/media/cache/c0/59/c...</td>\n",
       "      <td>&lt;img src=\"https://books.toscrape.com/media/cac...</td>\n",
       "    </tr>\n",
       "    <tr>\n",
       "      <th>4</th>\n",
       "      <td>Sapiens: A Brief History of Humankind</td>\n",
       "      <td>Â£54.23</td>\n",
       "      <td>From a renowned historian comes a groundbreaki...</td>\n",
       "      <td>https://books.toscrape.com/media/cache/ce/5f/c...</td>\n",
       "      <td>&lt;img src=\"https://books.toscrape.com/media/cac...</td>\n",
       "    </tr>\n",
       "    <tr>\n",
       "      <th>5</th>\n",
       "      <td>The Requiem Red</td>\n",
       "      <td>Â£22.65</td>\n",
       "      <td>Patient Twenty-nine.A monster roams the halls ...</td>\n",
       "      <td>https://books.toscrape.com/media/cache/6b/07/6...</td>\n",
       "      <td>&lt;img src=\"https://books.toscrape.com/media/cac...</td>\n",
       "    </tr>\n",
       "    <tr>\n",
       "      <th>6</th>\n",
       "      <td>The Dirty Little Secrets of Getting Your Dream...</td>\n",
       "      <td>Â£33.34</td>\n",
       "      <td>Drawing on his extensive experience evaluating...</td>\n",
       "      <td>https://books.toscrape.com/media/cache/e1/1b/e...</td>\n",
       "      <td>&lt;img src=\"https://books.toscrape.com/media/cac...</td>\n",
       "    </tr>\n",
       "    <tr>\n",
       "      <th>7</th>\n",
       "      <td>The Coming Woman: A Novel Based on the Life of...</td>\n",
       "      <td>Â£17.93</td>\n",
       "      <td>\"If you have a heart, if you have a soul, Kare...</td>\n",
       "      <td>https://books.toscrape.com/media/cache/97/36/9...</td>\n",
       "      <td>&lt;img src=\"https://books.toscrape.com/media/cac...</td>\n",
       "    </tr>\n",
       "    <tr>\n",
       "      <th>8</th>\n",
       "      <td>The Boys in the Boat: Nine Americans and Their...</td>\n",
       "      <td>Â£22.60</td>\n",
       "      <td>For readers of Laura Hillenbrand's Seabiscuit ...</td>\n",
       "      <td>https://books.toscrape.com/media/cache/d1/2d/d...</td>\n",
       "      <td>&lt;img src=\"https://books.toscrape.com/media/cac...</td>\n",
       "    </tr>\n",
       "    <tr>\n",
       "      <th>9</th>\n",
       "      <td>The Black Maria</td>\n",
       "      <td>Â£52.15</td>\n",
       "      <td>Praise for Aracelis Girmay:\"[Girmay's] every l...</td>\n",
       "      <td>https://books.toscrape.com/media/cache/d1/7a/d...</td>\n",
       "      <td>&lt;img src=\"https://books.toscrape.com/media/cac...</td>\n",
       "    </tr>\n",
       "  </tbody>\n",
       "</table>\n",
       "</div>"
      ],
      "text/plain": [
       "                                              Titulo   Precio  \\\n",
       "0                               A Light in the Attic  Â£51.77   \n",
       "1                                 Tipping the Velvet  Â£53.74   \n",
       "2                                         Soumission  Â£50.10   \n",
       "3                                      Sharp Objects  Â£47.82   \n",
       "4              Sapiens: A Brief History of Humankind  Â£54.23   \n",
       "5                                    The Requiem Red  Â£22.65   \n",
       "6  The Dirty Little Secrets of Getting Your Dream...  Â£33.34   \n",
       "7  The Coming Woman: A Novel Based on the Life of...  Â£17.93   \n",
       "8  The Boys in the Boat: Nine Americans and Their...  Â£22.60   \n",
       "9                                    The Black Maria  Â£52.15   \n",
       "\n",
       "                                         Descripcion  \\\n",
       "0  It's hard to imagine a world without A Light i...   \n",
       "1  \"Erotic and absorbing...Written with starling ...   \n",
       "2  Dans une France assez proche de la nÃ´tre, un ...   \n",
       "3  WICKED above her hipbone, GIRL across her hear...   \n",
       "4  From a renowned historian comes a groundbreaki...   \n",
       "5  Patient Twenty-nine.A monster roams the halls ...   \n",
       "6  Drawing on his extensive experience evaluating...   \n",
       "7  \"If you have a heart, if you have a soul, Kare...   \n",
       "8  For readers of Laura Hillenbrand's Seabiscuit ...   \n",
       "9  Praise for Aracelis Girmay:\"[Girmay's] every l...   \n",
       "\n",
       "                                             Url_img  \\\n",
       "0  https://books.toscrape.com/media/cache/fe/72/f...   \n",
       "1  https://books.toscrape.com/media/cache/08/e9/0...   \n",
       "2  https://books.toscrape.com/media/cache/ee/cf/e...   \n",
       "3  https://books.toscrape.com/media/cache/c0/59/c...   \n",
       "4  https://books.toscrape.com/media/cache/ce/5f/c...   \n",
       "5  https://books.toscrape.com/media/cache/6b/07/6...   \n",
       "6  https://books.toscrape.com/media/cache/e1/1b/e...   \n",
       "7  https://books.toscrape.com/media/cache/97/36/9...   \n",
       "8  https://books.toscrape.com/media/cache/d1/2d/d...   \n",
       "9  https://books.toscrape.com/media/cache/d1/7a/d...   \n",
       "\n",
       "                                             Vis_img  \n",
       "0  <img src=\"https://books.toscrape.com/media/cac...  \n",
       "1  <img src=\"https://books.toscrape.com/media/cac...  \n",
       "2  <img src=\"https://books.toscrape.com/media/cac...  \n",
       "3  <img src=\"https://books.toscrape.com/media/cac...  \n",
       "4  <img src=\"https://books.toscrape.com/media/cac...  \n",
       "5  <img src=\"https://books.toscrape.com/media/cac...  \n",
       "6  <img src=\"https://books.toscrape.com/media/cac...  \n",
       "7  <img src=\"https://books.toscrape.com/media/cac...  \n",
       "8  <img src=\"https://books.toscrape.com/media/cac...  \n",
       "9  <img src=\"https://books.toscrape.com/media/cac...  "
      ]
     },
     "execution_count": 20,
     "metadata": {},
     "output_type": "execute_result"
    }
   ],
   "source": [
    "df_catalogo['Vis_img']=df_catalogo['Url_img'].apply(lambda x : path_html_img(x))\n",
    "df_catalogo"
   ]
  },
  {
   "cell_type": "code",
   "execution_count": 21,
   "metadata": {},
   "outputs": [
    {
     "data": {
      "text/plain": [
       "'<table border=\"1\" class=\"dataframe\">\\n  <thead>\\n    <tr style=\"text-align: right;\">\\n      <th></th>\\n      <th>Titulo</th>\\n      <th>Precio</th>\\n      <th>Descripcion</th>\\n      <th>Url_img</th>\\n      <th>Vis_img</th>\\n    </tr>\\n  </thead>\\n  <tbody>\\n    <tr>\\n      <th>0</th>\\n      <td>A Light in the Attic</td>\\n      <td>Â£51.77</td>\\n      <td>It\\'s hard to imagine a world without A Light in the Attic. This now-classic collection of poetry and drawings from Shel Silverstein celebrates its 20th anniversary with this special edition. Silverstein\\'s humorous and creative verse can amuse the dowdiest of readers. Lemon-faced adults and fidgety kids sit still and read these rhythmic words and laugh and smile and love th It\\'s hard to imagine a world without A Light in the Attic. This now-classic collection of poetry and drawings from Shel Silverstein celebrates its 20th anniversary with this special edition. Silverstein\\'s humorous and creative verse can amuse the dowdiest of readers. Lemon-faced adults and fidgety kids sit still and read these rhythmic words and laugh and smile and love that Silverstein. Need proof of his genius? RockabyeRockabye baby, in the treetopDon\\'t you know a treetopIs no safe place to rock?And who put you up there,And your cradle, too?Baby, I think someone down here\\'sGot it in for you. Shel, you never sounded so good. ...more</td>\\n      <td>https://books.toscrape.com/media/cache/fe/72/fe72f0532301ec28892ae79a629a293c.jpg</td>\\n      <td><img src=\"https://books.toscrape.com/media/cache/fe/72/fe72f0532301ec28892ae79a629a293c.jpg\"width=\"60\" ></td>\\n    </tr>\\n    <tr>\\n      <th>1</th>\\n      <td>Tipping the Velvet</td>\\n      <td>Â£53.74</td>\\n      <td>\"Erotic and absorbing...Written with starling power.\"--\"The New York Times Book Review \" Nan King, an oyster girl, is captivated by the music hall phenomenon Kitty Butler, a male impersonator extraordinaire treading the boards in Canterbury. Through a friend at the box office, Nan manages to visit all her shows and finally meet her heroine. Soon after, she becomes Kitty\\'s \"Erotic and absorbing...Written with starling power.\"--\"The New York Times Book Review \" Nan King, an oyster girl, is captivated by the music hall phenomenon Kitty Butler, a male impersonator extraordinaire treading the boards in Canterbury. Through a friend at the box office, Nan manages to visit all her shows and finally meet her heroine. Soon after, she becomes Kitty\\'s dresser and the two head for the bright lights of Leicester Square where they begin a glittering career as music-hall stars in an all-singing and dancing double act. At the same time, behind closed doors, they admit their attraction to each other and their affair begins. ...more</td>\\n      <td>https://books.toscrape.com/media/cache/08/e9/08e94f3731d7d6b760dfbfbc02ca5c62.jpg</td>\\n      <td><img src=\"https://books.toscrape.com/media/cache/08/e9/08e94f3731d7d6b760dfbfbc02ca5c62.jpg\"width=\"60\" ></td>\\n    </tr>\\n    <tr>\\n      <th>2</th>\\n      <td>Soumission</td>\\n      <td>Â£50.10</td>\\n      <td>Dans une France assez proche de la nÃ´tre, un homme sâ\\x80\\x99engage dans la carriÃ¨re universitaire. Peu motivÃ© par lâ\\x80\\x99enseignement, il sâ\\x80\\x99attend Ã\\xa0 une vie ennuyeuse mais calme, protÃ©gÃ©e des grands drames historiques. Cependant les forces en jeu dans le pays ont fissurÃ© le systÃ¨me politique jusquâ\\x80\\x99Ã\\xa0 provoquer son effondrement. Cette implosion sans soubresauts, sans vraie rÃ©volution, s Dans une France assez proche de la nÃ´tre, un homme sâ\\x80\\x99engage dans la carriÃ¨re universitaire. Peu motivÃ© par lâ\\x80\\x99enseignement, il sâ\\x80\\x99attend Ã\\xa0 une vie ennuyeuse mais calme, protÃ©gÃ©e des grands drames historiques. Cependant les forces en jeu dans le pays ont fissurÃ© le systÃ¨me politique jusquâ\\x80\\x99Ã\\xa0 provoquer son effondrement. Cette implosion sans soubresauts, sans vraie rÃ©volution, se dÃ©veloppe comme un mauvais rÃªve.Le talent de lâ\\x80\\x99auteur, sa force visionnaire nous entraÃ®nent sur un terrain ambigu et glissant ; son regard sur notre civilisation vieillissante fait coexister dans ce roman les intuitions poÃ©tiques, les effets comiques, une mÃ©lancolie fataliste.Ce livre est une saisissante fable politique et morale. ...more</td>\\n      <td>https://books.toscrape.com/media/cache/ee/cf/eecfe998905e455df12064dba399c075.jpg</td>\\n      <td><img src=\"https://books.toscrape.com/media/cache/ee/cf/eecfe998905e455df12064dba399c075.jpg\"width=\"60\" ></td>\\n    </tr>\\n    <tr>\\n      <th>3</th>\\n      <td>Sharp Objects</td>\\n      <td>Â£47.82</td>\\n      <td>WICKED above her hipbone, GIRL across her heart Words are like a road map to reporter Camille Preakerâ\\x80\\x99s troubled past. Fresh from a brief stay at a psych hospital, Camilleâ\\x80\\x99s first assignment from the second-rate daily paper where she works brings her reluctantly back to her hometown to cover the murders of two preteen girls. NASTY on her kneecap, BABYDOLL on her leg Since WICKED above her hipbone, GIRL across her heart Words are like a road map to reporter Camille Preakerâ\\x80\\x99s troubled past. Fresh from a brief stay at a psych hospital, Camilleâ\\x80\\x99s first assignment from the second-rate daily paper where she works brings her reluctantly back to her hometown to cover the murders of two preteen girls. NASTY on her kneecap, BABYDOLL on her leg Since she left town eight years ago, Camille has hardly spoken to her neurotic, hypochondriac mother or to the half-sister she barely knows: a beautiful thirteen-year-old with an eerie grip on the town. Now, installed again in her familyâ\\x80\\x99s Victorian mansion, Camille is haunted by the childhood tragedy she has spent her whole life trying to cut from her memory. HARMFUL on her wrist, WHORE on her ankle As Camille works to uncover the truth about these violent crimes, she finds herself identifying with the young victimsâ\\x80\\x94a bit too strongly. Clues keep leading to dead ends, forcing Camille to unravel the psychological puzzle of her own past to get at the story. Dogged by her own demons, Camille will have to confront what happened to her years before if she wants to survive this homecoming.With its taut, crafted writing, Sharp Objects is addictive, haunting, and unforgettable. ...more</td>\\n      <td>https://books.toscrape.com/media/cache/c0/59/c05972805aa7201171b8fc71a5b00292.jpg</td>\\n      <td><img src=\"https://books.toscrape.com/media/cache/c0/59/c05972805aa7201171b8fc71a5b00292.jpg\"width=\"60\" ></td>\\n    </tr>\\n    <tr>\\n      <th>4</th>\\n      <td>Sapiens: A Brief History of Humankind</td>\\n      <td>Â£54.23</td>\\n      <td>From a renowned historian comes a groundbreaking narrative of humanityâ\\x80\\x99s creation and evolutionâ\\x80\\x94a #1 international bestsellerâ\\x80\\x94that explores the ways in which biology and history have defined us and enhanced our understanding of what it means to be â\\x80\\x9chuman.â\\x80\\x9dOne hundred thousand years ago, at least six different species of humans inhabited Earth. Yet today there is only oneâ\\x80\\x94h From a renowned historian comes a groundbreaking narrative of humanityâ\\x80\\x99s creation and evolutionâ\\x80\\x94a #1 international bestsellerâ\\x80\\x94that explores the ways in which biology and history have defined us and enhanced our understanding of what it means to be â\\x80\\x9chuman.â\\x80\\x9dOne hundred thousand years ago, at least six different species of humans inhabited Earth. Yet today there is only oneâ\\x80\\x94homo sapiens. What happened to the others? And what may happen to us?Most books about the history of humanity pursue either a historical or a biological approach, but Dr. Yuval Noah Harari breaks the mold with this highly original book that begins about 70,000 years ago with the appearance of modern cognition. From examining the role evolving humans have played in the global ecosystem to charting the rise of empires, Sapiens integrates history and science to reconsider accepted narratives, connect past developments with contemporary concerns, and examine specific events within the context of larger ideas.Dr. Harari also compels us to look ahead, because over the last few decades humans have begun to bend laws of natural selection that have governed life for the past four billion years. We are acquiring the ability to design not only the world around us, but also ourselves. Where is this leading us, and what do we want to become?Featuring 27 photographs, 6 maps, and 25 illustrations/diagrams, this provocative and insightful work is sure to spark debate and is essential reading for aficionados of Jared Diamond, James Gleick, Matt Ridley, Robert Wright, and Sharon Moalem. ...more</td>\\n      <td>https://books.toscrape.com/media/cache/ce/5f/ce5f052c65cc963cf4422be096e915c9.jpg</td>\\n      <td><img src=\"https://books.toscrape.com/media/cache/ce/5f/ce5f052c65cc963cf4422be096e915c9.jpg\"width=\"60\" ></td>\\n    </tr>\\n    <tr>\\n      <th>5</th>\\n      <td>The Requiem Red</td>\\n      <td>Â£22.65</td>\\n      <td>Patient Twenty-nine.A monster roams the halls of Soothing Hills Asylum. Three girls dead. 29 is endowed with the curseâ\\x80¦or gift of perception. She hears messages in music, sees lyrics in paintings. And the corn. A lifetime asylum resident, the orchestral corn music is the only constant in her life.Mason, a new, kind orderly, sees 29 as a woman, not a lunatic. And as his bel Patient Twenty-nine.A monster roams the halls of Soothing Hills Asylum. Three girls dead. 29 is endowed with the curseâ\\x80¦or gift of perception. She hears messages in music, sees lyrics in paintings. And the corn. A lifetime asylum resident, the orchestral corn music is the only constant in her life.Mason, a new, kind orderly, sees 29 as a woman, not a lunatic. And as his belief in her grows, so does her self- confidence. That perhaps she might escape, might see the outside world. But the monster has other plans. The missing girls share one common thread...each was twenty-nine\\'s cell mate. Will she be next? ...more</td>\\n      <td>https://books.toscrape.com/media/cache/6b/07/6b07b77236b7c80f42bd90bf325e69f6.jpg</td>\\n      <td><img src=\"https://books.toscrape.com/media/cache/6b/07/6b07b77236b7c80f42bd90bf325e69f6.jpg\"width=\"60\" ></td>\\n    </tr>\\n    <tr>\\n      <th>6</th>\\n      <td>The Dirty Little Secrets of Getting Your Dream Job</td>\\n      <td>Â£33.34</td>\\n      <td>Drawing on his extensive experience evaluating applicants for his marketing agency, and featuring stories based on real-life situations, sample cover letters, resumes, and straightforward advice, Don Raskinâ\\x80\\x99s The Dirty Little Secrets of Getting Your Dream Job offers all the necessary tools for navigating the tough job market and securing your dream job.Don Raskin owns and Drawing on his extensive experience evaluating applicants for his marketing agency, and featuring stories based on real-life situations, sample cover letters, resumes, and straightforward advice, Don Raskinâ\\x80\\x99s The Dirty Little Secrets of Getting Your Dream Job offers all the necessary tools for navigating the tough job market and securing your dream job.Don Raskin owns and operates MME, an advertising and marketing agency in New York City. During his twenty-five years at the agency he has interviewed hundreds of new college graduates for positions within his agency and has placed a strong emphasis on entry-level recruitment for positions in creative, account management, traffic, and production. Raskin has also mentored countless students and their parents on best practices for the job search. Over the years, Raskin has kept exceptionally detailed notes on the interviews he has conducted, observing the good, the bad, the ridiculous, the irreverent. He also has a treasure trove of over-the-top cover letters, resumes, interviews, and post interview follow-ups he has conducted and received. Now, he wants to share all the wisdom and insider secrets he has gathered to help students and first-time job seekers find a job in this economy.Based on his remarkable expertise, Raskin\\'s book provides exclusive insight into the job search process and lets readers in on all of the dirty little secrets to landing their first jobâ\\x80\\x94or a new oneâ\\x80\\x94and finding career success. ...more</td>\\n      <td>https://books.toscrape.com/media/cache/e1/1b/e11bea016d0ae1d7e2dd46fb3cb870b7.jpg</td>\\n      <td><img src=\"https://books.toscrape.com/media/cache/e1/1b/e11bea016d0ae1d7e2dd46fb3cb870b7.jpg\"width=\"60\" ></td>\\n    </tr>\\n    <tr>\\n      <th>7</th>\\n      <td>The Coming Woman: A Novel Based on the Life of the Infamous Feminist, Victoria Woodhull</td>\\n      <td>Â£17.93</td>\\n      <td>\"If you have a heart, if you have a soul, Karen Hicks\\' The Coming Woman will make you fall in love with Victoria Woodhull.\"-Kinky Friedman, author and Governor of the Heart of Texas \"What kind of confidence would it take for a woman to buck the old boy\\'s club of politics in 1872? More than 140 years pre-Hillary, there was Victoria Woodhull. This book takes you back with a \"If you have a heart, if you have a soul, Karen Hicks\\' The Coming Woman will make you fall in love with Victoria Woodhull.\"-Kinky Friedman, author and Governor of the Heart of Texas \"What kind of confidence would it take for a woman to buck the old boy\\'s club of politics in 1872? More than 140 years pre-Hillary, there was Victoria Woodhull. This book takes you back with a breathtaking, present-tense bird\\'s eye view into a time when women\\'s liberation was primarily confined to one woman\\'s very capable, independent mind. I couldn\\'t put it down.\"---Ruth Buzzi, Golden Globe Award winner and Television Hall of Fame inductee\"Sadly, too many Americans have never heard of Victoria Woodhull, let alone learned of her story: her revolutionary campaign for the presidency at a time when women weren\\'t even allowed to vote, her support for worker\\'s rights, or her feminist commitment to equality, a century before the official battle over the Equal Rights Amendment. But in The Coming Woman, Karen Hicks brings Woodhull\\'s efforts to life, and reminds us that some of our nation\\'s greatest figures aren\\'t always featured in the history books. It is a riveting account of an amazing woman and her struggle for justice and human dignity, told in an engaging and eminently readable style.\"-Tim Wise, author, \"White Like Me: Reflections on Race from a Privileged Son\"\"The Coming Woman\" is a novel based on the life of feminist Victoria Woodhull, the first woman to run for U.S. President, 50 years before women could even vote!Running for President wasn\\'t Victoria\\'s only first as a woman. She was also the first to own a successful Wall Street firm, the first to publish a successful national newspaper, and the first to head the two-million-member Spiritualist Association. She was the first woman to enter the Senate Judiciary Committee chambers to petition for woman\\'s suffrage, her argument changing the entire focus of the suffragist movement by pointing out that the 14th and 15th Amendments already gave women the vote.In her campaign for the Presidency, Victoria Woodhull boldly addressed many of the issues we still face today: equal pay for equal work; freedom in love; corporate greed and political corruption fueled by powerful lobbyists; and the increasing disparity between the rich and the poor, to name only a few. Her outspoken and common-sense ideas may shed a new perspective on the parallel conundrums of today\\'s world.This bold, beautiful, and sexually progressive woman dared to take on society and religion. To make an example of the hypocrisy in what Mark Twain dubbed The Gilded Age, she exposed the extramarital affairs of the most popular religious figure of the day (Henry Ward Beecher). This led to her persecution and imprisonment and the longest, most infamous trial of the 19th century. But it did not stop her fight for equality.Victoria\\'s epic story, set in the late 1800s, comes to life in a modern, fictional style, while staying true to the actual words and views of the many well-known characters. ...more</td>\\n      <td>https://books.toscrape.com/media/cache/97/36/9736132a43b8e6e3989932218ef309ed.jpg</td>\\n      <td><img src=\"https://books.toscrape.com/media/cache/97/36/9736132a43b8e6e3989932218ef309ed.jpg\"width=\"60\" ></td>\\n    </tr>\\n    <tr>\\n      <th>8</th>\\n      <td>The Boys in the Boat: Nine Americans and Their Epic Quest for Gold at the 1936 Berlin Olympics</td>\\n      <td>Â£22.60</td>\\n      <td>For readers of Laura Hillenbrand\\'s Seabiscuit and Unbroken, the dramatic story of the American rowing team that stunned the world at Hitler\\'s 1936 Berlin Olympics Daniel James Brownâ\\x80\\x99s robust book tells the story of the University of Washingtonâ\\x80\\x99s 1936 eight-oar crew and their epic quest for an Olympic gold medal, a team that transformed the sport and grabbed the attention o For readers of Laura Hillenbrand\\'s Seabiscuit and Unbroken, the dramatic story of the American rowing team that stunned the world at Hitler\\'s 1936 Berlin Olympics Daniel James Brownâ\\x80\\x99s robust book tells the story of the University of Washingtonâ\\x80\\x99s 1936 eight-oar crew and their epic quest for an Olympic gold medal, a team that transformed the sport and grabbed the attention of millions of Americans. The sons of loggers, shipyard workers, and farmers, the boys defeated elite rivals first from eastern and British universities and finally the German crew rowing for Adolf Hitler in the Olympic games in Berlin, 1936. The emotional heart of the story lies with one rower, Joe Rantz, a teenager without family or prospects, who rows not for glory, but to regain his shattered self-regard and to find a place he can call home. The crew is assembledÂ\\xa0 by an enigmatic coach and mentored by a visionary, eccentric British boat builder, but it is their trust in each other that makes them a victorious team. They remind the country of what can be done when everyone quite literally pulls togetherâ\\x80\\x94a perfect melding of commitment, determination, and optimism. Drawing on the boysâ\\x80\\x99 own diaries and journals, their photos and memories of a once-in-a-lifetime shared dream, The Boys in the Boat is an irresistible story about beating the odds and finding hope in the most desperate of timesâ\\x80\\x94the improbable, intimate story of nine working-class boys from the American west who, in the depths of the Great Depression, showed the world what true grit really meant. It will appeal to readers of Erik Larson, Timothy Egan, James Bradley, and David Halberstam\\'s The Amateurs. ...more</td>\\n      <td>https://books.toscrape.com/media/cache/d1/2d/d12d26739b5369a6b5b3024e4d08f907.jpg</td>\\n      <td><img src=\"https://books.toscrape.com/media/cache/d1/2d/d12d26739b5369a6b5b3024e4d08f907.jpg\"width=\"60\" ></td>\\n    </tr>\\n    <tr>\\n      <th>9</th>\\n      <td>The Black Maria</td>\\n      <td>Â£52.15</td>\\n      <td>Praise for Aracelis Girmay:\"[Girmay\\'s] every lossâ\\x80\\x94she calls them estrangementsâ\\x80\\x94is a yearning for connection across time and place; her every fragment is a bulwark against ruin.\" â\\x80\\x94 O, The Oprah Magazine \"In Aracelis Girmay we have a poet who collects, polishes, and shares stories with such brilliant invention, tenderness, and intellectual liveliness that it is understandabl Praise for Aracelis Girmay:\"[Girmay\\'s] every lossâ\\x80\\x94she calls them estrangementsâ\\x80\\x94is a yearning for connection across time and place; her every fragment is a bulwark against ruin.\" â\\x80\\x94 O, The Oprah Magazine \"In Aracelis Girmay we have a poet who collects, polishes, and shares stories with such brilliant invention, tenderness, and intellectual liveliness that it is understandable that we think of her as the blessed curator of our collective histories. There is in her art the vulnerability of one who lives inside of the stories that she gathers in this remarkable collection. Her poems set off alarms even as they transform the world she inhabits, showing us, in the process, exactly what she asks of Romare Beardenâ\\x80\\x99s art: â\\x80\\x98â\\x80¦how not to // assign all blackness near the sea / a captivity.â\\x80\\x99 This is one of the many sweet contradictions in the black maria, which â\\x80\\x98is a black flag / wounding the pastoral.â\\x80\\x99 I am deeply thankful that we have a poet of her unique and singular talent writing today.\" â\\x80\\x94Kwame DawesTaking its name from the moon\\'s dark plains, misidentified as seas by early astronomers, the black maria investigates African diasporic histories, the consequences of racism within American culture, and the question of human identity. Central to this project is a desire to recognize the lives of Eritrean refugees who have been made invisible by years of immigration crisis, refugee status, exile, and resulting statelessness. The recipient of a 2015 Whiting Award for Poetry, Girmay\\'s newest collection elegizes and celebrates life, while wrestling with the humanistic notion of seeing beyond: seeing violence, seeing grace, and seeing each other better.\"to the sea\"great storage house, historyon which we rode, we touchedthe brief pulse of your flutteringpages, spelled with salt & life,your rage, your indifferenceyour gentleness washing our feet,all of you going onwhether or not we live,to you we bring our carnationsyellow & pink, how they floatlike bright sentences atopyour memory\\'s dark hairAracelis Girmay is the author of three poetry collections, the black maria; Kingdom Animalia, which won the Isabella Gardner Award and was a finalist for the NBCC Award; and Teeth. The recipient of a 2015 Whiting Award, she has received grants and fellowships from the Jerome, Cave Canem, and Watson foundations, as well as Civitella Ranieri and the NEA. She currently teaches at Hampshire College\\'s School for Interdisciplinary Arts and in Drew University\\'s low residency MFA program. Originally from Santa Ana, California, she splits her time between New York and Amherst, Massachusetts. ...more</td>\\n      <td>https://books.toscrape.com/media/cache/d1/7a/d17a3e313e52e1be5651719e4fba1d16.jpg</td>\\n      <td><img src=\"https://books.toscrape.com/media/cache/d1/7a/d17a3e313e52e1be5651719e4fba1d16.jpg\"width=\"60\" ></td>\\n    </tr>\\n  </tbody>\\n</table>'"
      ]
     },
     "execution_count": 21,
     "metadata": {},
     "output_type": "execute_result"
    }
   ],
   "source": [
    "df_catalogo.to_html(escape=False, formatters=dict(Portada=path_html_img))"
   ]
  },
  {
   "cell_type": "code",
   "execution_count": 22,
   "metadata": {},
   "outputs": [
    {
     "data": {
      "text/html": [
       "<table border=\"1\" class=\"dataframe\">\n",
       "  <thead>\n",
       "    <tr style=\"text-align: right;\">\n",
       "      <th></th>\n",
       "      <th>Titulo</th>\n",
       "      <th>Precio</th>\n",
       "      <th>Descripcion</th>\n",
       "      <th>Url_img</th>\n",
       "      <th>Vis_img</th>\n",
       "    </tr>\n",
       "  </thead>\n",
       "  <tbody>\n",
       "    <tr>\n",
       "      <th>0</th>\n",
       "      <td>A Light in the Attic</td>\n",
       "      <td>Â£51.77</td>\n",
       "      <td>It's hard to imagine a world without A Light in the Attic. This now-classic collection of poetry and drawings from Shel Silverstein celebrates its 20th anniversary with this special edition. Silverstein's humorous and creative verse can amuse the dowdiest of readers. Lemon-faced adults and fidgety kids sit still and read these rhythmic words and laugh and smile and love th It's hard to imagine a world without A Light in the Attic. This now-classic collection of poetry and drawings from Shel Silverstein celebrates its 20th anniversary with this special edition. Silverstein's humorous and creative verse can amuse the dowdiest of readers. Lemon-faced adults and fidgety kids sit still and read these rhythmic words and laugh and smile and love that Silverstein. Need proof of his genius? RockabyeRockabye baby, in the treetopDon't you know a treetopIs no safe place to rock?And who put you up there,And your cradle, too?Baby, I think someone down here'sGot it in for you. Shel, you never sounded so good. ...more</td>\n",
       "      <td>https://books.toscrape.com/media/cache/fe/72/fe72f0532301ec28892ae79a629a293c.jpg</td>\n",
       "      <td><img src=\"https://books.toscrape.com/media/cache/fe/72/fe72f0532301ec28892ae79a629a293c.jpg\"width=\"60\" ></td>\n",
       "    </tr>\n",
       "    <tr>\n",
       "      <th>1</th>\n",
       "      <td>Tipping the Velvet</td>\n",
       "      <td>Â£53.74</td>\n",
       "      <td>\"Erotic and absorbing...Written with starling power.\"--\"The New York Times Book Review \" Nan King, an oyster girl, is captivated by the music hall phenomenon Kitty Butler, a male impersonator extraordinaire treading the boards in Canterbury. Through a friend at the box office, Nan manages to visit all her shows and finally meet her heroine. Soon after, she becomes Kitty's \"Erotic and absorbing...Written with starling power.\"--\"The New York Times Book Review \" Nan King, an oyster girl, is captivated by the music hall phenomenon Kitty Butler, a male impersonator extraordinaire treading the boards in Canterbury. Through a friend at the box office, Nan manages to visit all her shows and finally meet her heroine. Soon after, she becomes Kitty's dresser and the two head for the bright lights of Leicester Square where they begin a glittering career as music-hall stars in an all-singing and dancing double act. At the same time, behind closed doors, they admit their attraction to each other and their affair begins. ...more</td>\n",
       "      <td>https://books.toscrape.com/media/cache/08/e9/08e94f3731d7d6b760dfbfbc02ca5c62.jpg</td>\n",
       "      <td><img src=\"https://books.toscrape.com/media/cache/08/e9/08e94f3731d7d6b760dfbfbc02ca5c62.jpg\"width=\"60\" ></td>\n",
       "    </tr>\n",
       "    <tr>\n",
       "      <th>2</th>\n",
       "      <td>Soumission</td>\n",
       "      <td>Â£50.10</td>\n",
       "      <td>Dans une France assez proche de la nÃ´tre, un homme sâengage dans la carriÃ¨re universitaire. Peu motivÃ© par lâenseignement, il sâattend Ã  une vie ennuyeuse mais calme, protÃ©gÃ©e des grands drames historiques. Cependant les forces en jeu dans le pays ont fissurÃ© le systÃ¨me politique jusquâÃ  provoquer son effondrement. Cette implosion sans soubresauts, sans vraie rÃ©volution, s Dans une France assez proche de la nÃ´tre, un homme sâengage dans la carriÃ¨re universitaire. Peu motivÃ© par lâenseignement, il sâattend Ã  une vie ennuyeuse mais calme, protÃ©gÃ©e des grands drames historiques. Cependant les forces en jeu dans le pays ont fissurÃ© le systÃ¨me politique jusquâÃ  provoquer son effondrement. Cette implosion sans soubresauts, sans vraie rÃ©volution, se dÃ©veloppe comme un mauvais rÃªve.Le talent de lâauteur, sa force visionnaire nous entraÃ®nent sur un terrain ambigu et glissant ; son regard sur notre civilisation vieillissante fait coexister dans ce roman les intuitions poÃ©tiques, les effets comiques, une mÃ©lancolie fataliste.Ce livre est une saisissante fable politique et morale. ...more</td>\n",
       "      <td>https://books.toscrape.com/media/cache/ee/cf/eecfe998905e455df12064dba399c075.jpg</td>\n",
       "      <td><img src=\"https://books.toscrape.com/media/cache/ee/cf/eecfe998905e455df12064dba399c075.jpg\"width=\"60\" ></td>\n",
       "    </tr>\n",
       "    <tr>\n",
       "      <th>3</th>\n",
       "      <td>Sharp Objects</td>\n",
       "      <td>Â£47.82</td>\n",
       "      <td>WICKED above her hipbone, GIRL across her heart Words are like a road map to reporter Camille Preakerâs troubled past. Fresh from a brief stay at a psych hospital, Camilleâs first assignment from the second-rate daily paper where she works brings her reluctantly back to her hometown to cover the murders of two preteen girls. NASTY on her kneecap, BABYDOLL on her leg Since WICKED above her hipbone, GIRL across her heart Words are like a road map to reporter Camille Preakerâs troubled past. Fresh from a brief stay at a psych hospital, Camilleâs first assignment from the second-rate daily paper where she works brings her reluctantly back to her hometown to cover the murders of two preteen girls. NASTY on her kneecap, BABYDOLL on her leg Since she left town eight years ago, Camille has hardly spoken to her neurotic, hypochondriac mother or to the half-sister she barely knows: a beautiful thirteen-year-old with an eerie grip on the town. Now, installed again in her familyâs Victorian mansion, Camille is haunted by the childhood tragedy she has spent her whole life trying to cut from her memory. HARMFUL on her wrist, WHORE on her ankle As Camille works to uncover the truth about these violent crimes, she finds herself identifying with the young victimsâa bit too strongly. Clues keep leading to dead ends, forcing Camille to unravel the psychological puzzle of her own past to get at the story. Dogged by her own demons, Camille will have to confront what happened to her years before if she wants to survive this homecoming.With its taut, crafted writing, Sharp Objects is addictive, haunting, and unforgettable. ...more</td>\n",
       "      <td>https://books.toscrape.com/media/cache/c0/59/c05972805aa7201171b8fc71a5b00292.jpg</td>\n",
       "      <td><img src=\"https://books.toscrape.com/media/cache/c0/59/c05972805aa7201171b8fc71a5b00292.jpg\"width=\"60\" ></td>\n",
       "    </tr>\n",
       "    <tr>\n",
       "      <th>4</th>\n",
       "      <td>Sapiens: A Brief History of Humankind</td>\n",
       "      <td>Â£54.23</td>\n",
       "      <td>From a renowned historian comes a groundbreaking narrative of humanityâs creation and evolutionâa #1 international bestsellerâthat explores the ways in which biology and history have defined us and enhanced our understanding of what it means to be âhuman.âOne hundred thousand years ago, at least six different species of humans inhabited Earth. Yet today there is only oneâh From a renowned historian comes a groundbreaking narrative of humanityâs creation and evolutionâa #1 international bestsellerâthat explores the ways in which biology and history have defined us and enhanced our understanding of what it means to be âhuman.âOne hundred thousand years ago, at least six different species of humans inhabited Earth. Yet today there is only oneâhomo sapiens. What happened to the others? And what may happen to us?Most books about the history of humanity pursue either a historical or a biological approach, but Dr. Yuval Noah Harari breaks the mold with this highly original book that begins about 70,000 years ago with the appearance of modern cognition. From examining the role evolving humans have played in the global ecosystem to charting the rise of empires, Sapiens integrates history and science to reconsider accepted narratives, connect past developments with contemporary concerns, and examine specific events within the context of larger ideas.Dr. Harari also compels us to look ahead, because over the last few decades humans have begun to bend laws of natural selection that have governed life for the past four billion years. We are acquiring the ability to design not only the world around us, but also ourselves. Where is this leading us, and what do we want to become?Featuring 27 photographs, 6 maps, and 25 illustrations/diagrams, this provocative and insightful work is sure to spark debate and is essential reading for aficionados of Jared Diamond, James Gleick, Matt Ridley, Robert Wright, and Sharon Moalem. ...more</td>\n",
       "      <td>https://books.toscrape.com/media/cache/ce/5f/ce5f052c65cc963cf4422be096e915c9.jpg</td>\n",
       "      <td><img src=\"https://books.toscrape.com/media/cache/ce/5f/ce5f052c65cc963cf4422be096e915c9.jpg\"width=\"60\" ></td>\n",
       "    </tr>\n",
       "    <tr>\n",
       "      <th>5</th>\n",
       "      <td>The Requiem Red</td>\n",
       "      <td>Â£22.65</td>\n",
       "      <td>Patient Twenty-nine.A monster roams the halls of Soothing Hills Asylum. Three girls dead. 29 is endowed with the curseâ¦or gift of perception. She hears messages in music, sees lyrics in paintings. And the corn. A lifetime asylum resident, the orchestral corn music is the only constant in her life.Mason, a new, kind orderly, sees 29 as a woman, not a lunatic. And as his bel Patient Twenty-nine.A monster roams the halls of Soothing Hills Asylum. Three girls dead. 29 is endowed with the curseâ¦or gift of perception. She hears messages in music, sees lyrics in paintings. And the corn. A lifetime asylum resident, the orchestral corn music is the only constant in her life.Mason, a new, kind orderly, sees 29 as a woman, not a lunatic. And as his belief in her grows, so does her self- confidence. That perhaps she might escape, might see the outside world. But the monster has other plans. The missing girls share one common thread...each was twenty-nine's cell mate. Will she be next? ...more</td>\n",
       "      <td>https://books.toscrape.com/media/cache/6b/07/6b07b77236b7c80f42bd90bf325e69f6.jpg</td>\n",
       "      <td><img src=\"https://books.toscrape.com/media/cache/6b/07/6b07b77236b7c80f42bd90bf325e69f6.jpg\"width=\"60\" ></td>\n",
       "    </tr>\n",
       "    <tr>\n",
       "      <th>6</th>\n",
       "      <td>The Dirty Little Secrets of Getting Your Dream Job</td>\n",
       "      <td>Â£33.34</td>\n",
       "      <td>Drawing on his extensive experience evaluating applicants for his marketing agency, and featuring stories based on real-life situations, sample cover letters, resumes, and straightforward advice, Don Raskinâs The Dirty Little Secrets of Getting Your Dream Job offers all the necessary tools for navigating the tough job market and securing your dream job.Don Raskin owns and Drawing on his extensive experience evaluating applicants for his marketing agency, and featuring stories based on real-life situations, sample cover letters, resumes, and straightforward advice, Don Raskinâs The Dirty Little Secrets of Getting Your Dream Job offers all the necessary tools for navigating the tough job market and securing your dream job.Don Raskin owns and operates MME, an advertising and marketing agency in New York City. During his twenty-five years at the agency he has interviewed hundreds of new college graduates for positions within his agency and has placed a strong emphasis on entry-level recruitment for positions in creative, account management, traffic, and production. Raskin has also mentored countless students and their parents on best practices for the job search. Over the years, Raskin has kept exceptionally detailed notes on the interviews he has conducted, observing the good, the bad, the ridiculous, the irreverent. He also has a treasure trove of over-the-top cover letters, resumes, interviews, and post interview follow-ups he has conducted and received. Now, he wants to share all the wisdom and insider secrets he has gathered to help students and first-time job seekers find a job in this economy.Based on his remarkable expertise, Raskin's book provides exclusive insight into the job search process and lets readers in on all of the dirty little secrets to landing their first jobâor a new oneâand finding career success. ...more</td>\n",
       "      <td>https://books.toscrape.com/media/cache/e1/1b/e11bea016d0ae1d7e2dd46fb3cb870b7.jpg</td>\n",
       "      <td><img src=\"https://books.toscrape.com/media/cache/e1/1b/e11bea016d0ae1d7e2dd46fb3cb870b7.jpg\"width=\"60\" ></td>\n",
       "    </tr>\n",
       "    <tr>\n",
       "      <th>7</th>\n",
       "      <td>The Coming Woman: A Novel Based on the Life of the Infamous Feminist, Victoria Woodhull</td>\n",
       "      <td>Â£17.93</td>\n",
       "      <td>\"If you have a heart, if you have a soul, Karen Hicks' The Coming Woman will make you fall in love with Victoria Woodhull.\"-Kinky Friedman, author and Governor of the Heart of Texas \"What kind of confidence would it take for a woman to buck the old boy's club of politics in 1872? More than 140 years pre-Hillary, there was Victoria Woodhull. This book takes you back with a \"If you have a heart, if you have a soul, Karen Hicks' The Coming Woman will make you fall in love with Victoria Woodhull.\"-Kinky Friedman, author and Governor of the Heart of Texas \"What kind of confidence would it take for a woman to buck the old boy's club of politics in 1872? More than 140 years pre-Hillary, there was Victoria Woodhull. This book takes you back with a breathtaking, present-tense bird's eye view into a time when women's liberation was primarily confined to one woman's very capable, independent mind. I couldn't put it down.\"---Ruth Buzzi, Golden Globe Award winner and Television Hall of Fame inductee\"Sadly, too many Americans have never heard of Victoria Woodhull, let alone learned of her story: her revolutionary campaign for the presidency at a time when women weren't even allowed to vote, her support for worker's rights, or her feminist commitment to equality, a century before the official battle over the Equal Rights Amendment. But in The Coming Woman, Karen Hicks brings Woodhull's efforts to life, and reminds us that some of our nation's greatest figures aren't always featured in the history books. It is a riveting account of an amazing woman and her struggle for justice and human dignity, told in an engaging and eminently readable style.\"-Tim Wise, author, \"White Like Me: Reflections on Race from a Privileged Son\"\"The Coming Woman\" is a novel based on the life of feminist Victoria Woodhull, the first woman to run for U.S. President, 50 years before women could even vote!Running for President wasn't Victoria's only first as a woman. She was also the first to own a successful Wall Street firm, the first to publish a successful national newspaper, and the first to head the two-million-member Spiritualist Association. She was the first woman to enter the Senate Judiciary Committee chambers to petition for woman's suffrage, her argument changing the entire focus of the suffragist movement by pointing out that the 14th and 15th Amendments already gave women the vote.In her campaign for the Presidency, Victoria Woodhull boldly addressed many of the issues we still face today: equal pay for equal work; freedom in love; corporate greed and political corruption fueled by powerful lobbyists; and the increasing disparity between the rich and the poor, to name only a few. Her outspoken and common-sense ideas may shed a new perspective on the parallel conundrums of today's world.This bold, beautiful, and sexually progressive woman dared to take on society and religion. To make an example of the hypocrisy in what Mark Twain dubbed The Gilded Age, she exposed the extramarital affairs of the most popular religious figure of the day (Henry Ward Beecher). This led to her persecution and imprisonment and the longest, most infamous trial of the 19th century. But it did not stop her fight for equality.Victoria's epic story, set in the late 1800s, comes to life in a modern, fictional style, while staying true to the actual words and views of the many well-known characters. ...more</td>\n",
       "      <td>https://books.toscrape.com/media/cache/97/36/9736132a43b8e6e3989932218ef309ed.jpg</td>\n",
       "      <td><img src=\"https://books.toscrape.com/media/cache/97/36/9736132a43b8e6e3989932218ef309ed.jpg\"width=\"60\" ></td>\n",
       "    </tr>\n",
       "    <tr>\n",
       "      <th>8</th>\n",
       "      <td>The Boys in the Boat: Nine Americans and Their Epic Quest for Gold at the 1936 Berlin Olympics</td>\n",
       "      <td>Â£22.60</td>\n",
       "      <td>For readers of Laura Hillenbrand's Seabiscuit and Unbroken, the dramatic story of the American rowing team that stunned the world at Hitler's 1936 Berlin Olympics Daniel James Brownâs robust book tells the story of the University of Washingtonâs 1936 eight-oar crew and their epic quest for an Olympic gold medal, a team that transformed the sport and grabbed the attention o For readers of Laura Hillenbrand's Seabiscuit and Unbroken, the dramatic story of the American rowing team that stunned the world at Hitler's 1936 Berlin Olympics Daniel James Brownâs robust book tells the story of the University of Washingtonâs 1936 eight-oar crew and their epic quest for an Olympic gold medal, a team that transformed the sport and grabbed the attention of millions of Americans. The sons of loggers, shipyard workers, and farmers, the boys defeated elite rivals first from eastern and British universities and finally the German crew rowing for Adolf Hitler in the Olympic games in Berlin, 1936. The emotional heart of the story lies with one rower, Joe Rantz, a teenager without family or prospects, who rows not for glory, but to regain his shattered self-regard and to find a place he can call home. The crew is assembledÂ  by an enigmatic coach and mentored by a visionary, eccentric British boat builder, but it is their trust in each other that makes them a victorious team. They remind the country of what can be done when everyone quite literally pulls togetherâa perfect melding of commitment, determination, and optimism. Drawing on the boysâ own diaries and journals, their photos and memories of a once-in-a-lifetime shared dream, The Boys in the Boat is an irresistible story about beating the odds and finding hope in the most desperate of timesâthe improbable, intimate story of nine working-class boys from the American west who, in the depths of the Great Depression, showed the world what true grit really meant. It will appeal to readers of Erik Larson, Timothy Egan, James Bradley, and David Halberstam's The Amateurs. ...more</td>\n",
       "      <td>https://books.toscrape.com/media/cache/d1/2d/d12d26739b5369a6b5b3024e4d08f907.jpg</td>\n",
       "      <td><img src=\"https://books.toscrape.com/media/cache/d1/2d/d12d26739b5369a6b5b3024e4d08f907.jpg\"width=\"60\" ></td>\n",
       "    </tr>\n",
       "    <tr>\n",
       "      <th>9</th>\n",
       "      <td>The Black Maria</td>\n",
       "      <td>Â£52.15</td>\n",
       "      <td>Praise for Aracelis Girmay:\"[Girmay's] every lossâshe calls them estrangementsâis a yearning for connection across time and place; her every fragment is a bulwark against ruin.\" â O, The Oprah Magazine \"In Aracelis Girmay we have a poet who collects, polishes, and shares stories with such brilliant invention, tenderness, and intellectual liveliness that it is understandabl Praise for Aracelis Girmay:\"[Girmay's] every lossâshe calls them estrangementsâis a yearning for connection across time and place; her every fragment is a bulwark against ruin.\" â O, The Oprah Magazine \"In Aracelis Girmay we have a poet who collects, polishes, and shares stories with such brilliant invention, tenderness, and intellectual liveliness that it is understandable that we think of her as the blessed curator of our collective histories. There is in her art the vulnerability of one who lives inside of the stories that she gathers in this remarkable collection. Her poems set off alarms even as they transform the world she inhabits, showing us, in the process, exactly what she asks of Romare Beardenâs art: ââ¦how not to // assign all blackness near the sea / a captivity.â This is one of the many sweet contradictions in the black maria, which âis a black flag / wounding the pastoral.â I am deeply thankful that we have a poet of her unique and singular talent writing today.\" âKwame DawesTaking its name from the moon's dark plains, misidentified as seas by early astronomers, the black maria investigates African diasporic histories, the consequences of racism within American culture, and the question of human identity. Central to this project is a desire to recognize the lives of Eritrean refugees who have been made invisible by years of immigration crisis, refugee status, exile, and resulting statelessness. The recipient of a 2015 Whiting Award for Poetry, Girmay's newest collection elegizes and celebrates life, while wrestling with the humanistic notion of seeing beyond: seeing violence, seeing grace, and seeing each other better.\"to the sea\"great storage house, historyon which we rode, we touchedthe brief pulse of your flutteringpages, spelled with salt & life,your rage, your indifferenceyour gentleness washing our feet,all of you going onwhether or not we live,to you we bring our carnationsyellow & pink, how they floatlike bright sentences atopyour memory's dark hairAracelis Girmay is the author of three poetry collections, the black maria; Kingdom Animalia, which won the Isabella Gardner Award and was a finalist for the NBCC Award; and Teeth. The recipient of a 2015 Whiting Award, she has received grants and fellowships from the Jerome, Cave Canem, and Watson foundations, as well as Civitella Ranieri and the NEA. She currently teaches at Hampshire College's School for Interdisciplinary Arts and in Drew University's low residency MFA program. Originally from Santa Ana, California, she splits her time between New York and Amherst, Massachusetts. ...more</td>\n",
       "      <td>https://books.toscrape.com/media/cache/d1/7a/d17a3e313e52e1be5651719e4fba1d16.jpg</td>\n",
       "      <td><img src=\"https://books.toscrape.com/media/cache/d1/7a/d17a3e313e52e1be5651719e4fba1d16.jpg\"width=\"60\" ></td>\n",
       "    </tr>\n",
       "  </tbody>\n",
       "</table>"
      ],
      "text/plain": [
       "<IPython.core.display.HTML object>"
      ]
     },
     "execution_count": 22,
     "metadata": {},
     "output_type": "execute_result"
    }
   ],
   "source": [
    "HTML(df_catalogo.to_html(escape=False, formatters=dict(Portada=path_html_img)))"
   ]
  },
  {
   "cell_type": "code",
   "execution_count": null,
   "metadata": {},
   "outputs": [],
   "source": []
  },
  {
   "cell_type": "code",
   "execution_count": null,
   "metadata": {},
   "outputs": [],
   "source": []
  }
 ],
 "metadata": {
  "kernelspec": {
   "display_name": "Python 3",
   "language": "python",
   "name": "python3"
  },
  "language_info": {
   "codemirror_mode": {
    "name": "ipython",
    "version": 3
   },
   "file_extension": ".py",
   "mimetype": "text/x-python",
   "name": "python",
   "nbconvert_exporter": "python",
   "pygments_lexer": "ipython3",
   "version": "3.8.5"
  }
 },
 "nbformat": 4,
 "nbformat_minor": 4
}
