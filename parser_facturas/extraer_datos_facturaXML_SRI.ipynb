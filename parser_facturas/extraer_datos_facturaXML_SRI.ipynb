{
 "cells": [
  {
   "cell_type": "code",
   "execution_count": 1,
   "metadata": {},
   "outputs": [],
   "source": [
    "#librerias a utilizar\n",
    "#libreria parse XML\n",
    "import xml.etree.ElementTree as ET\n",
    "#expresiones regulares\n",
    "import re\n",
    "#pandas para dataframes\n",
    "import pandas as pd\n",
    "#acceder a path de directorios locales\n",
    "import os"
   ]
  },
  {
   "cell_type": "code",
   "execution_count": 3,
   "metadata": {},
   "outputs": [
    {
     "data": {
      "text/plain": [
       "['.ipynb_checkpoints',\n",
       " 'Ejemplo2Fac.xml',\n",
       " 'EjemploFac.xml',\n",
       " 'extraer_datos_facturaXML_SRI.ipynb']"
      ]
     },
     "execution_count": 3,
     "metadata": {},
     "output_type": "execute_result"
    }
   ],
   "source": [
    "#listar los objetos disponibles en el directorio\n",
    "list_fact=os.listdir()\n",
    "list_fact"
   ]
  },
  {
   "cell_type": "code",
   "execution_count": 7,
   "metadata": {},
   "outputs": [],
   "source": [
    "#quedarse con uno solo de los archivos\n",
    "factura=list_fact[1]\n",
    "#generar el root de la fuente de datos\n",
    "root=ET.parse(factura).getroot()"
   ]
  },
  {
   "cell_type": "code",
   "execution_count": 10,
   "metadata": {},
   "outputs": [
    {
     "data": {
      "text/plain": [
       "xml.etree.ElementTree.Element"
      ]
     },
     "execution_count": 10,
     "metadata": {},
     "output_type": "execute_result"
    }
   ],
   "source": [
    "#contenido de root (arhivo raiz de XML)\n",
    "root\n",
    "type(root)"
   ]
  },
  {
   "cell_type": "code",
   "execution_count": 13,
   "metadata": {},
   "outputs": [
    {
     "name": "stdout",
     "output_type": "stream",
     "text": [
      "estado : {}\n",
      "numeroAutorizacion : {}\n",
      "fechaAutorizacion : {}\n",
      "ambiente : {}\n",
      "comprobante : {}\n",
      "mensajes : {}\n"
     ]
    }
   ],
   "source": [
    "#verificar las etiquetas child de root y el atrbiuto\n",
    "#al final nos quedamos con el texto de comprobante\n",
    "\n",
    "for i in root:\n",
    "    print(i.tag,\":\", i.attrib)"
   ]
  },
  {
   "cell_type": "code",
   "execution_count": 16,
   "metadata": {},
   "outputs": [],
   "source": [
    "#seleccionar solo comprobante\n",
    "#obtener el texto de comprobante\n",
    "#abrir el texto de comprobante como XML\n",
    "comprobante=root[4].text\n"
   ]
  },
  {
   "cell_type": "code",
   "execution_count": 22,
   "metadata": {},
   "outputs": [
    {
     "data": {
      "text/plain": [
       "'factura'"
      ]
     },
     "execution_count": 22,
     "metadata": {},
     "output_type": "execute_result"
    }
   ],
   "source": [
    "#usando el metodo de fromstring abres el texto como XML\n",
    "xml_comprobante=ET.fromstring(comprobante)\n",
    "xml_comprobante.tag"
   ]
  },
  {
   "cell_type": "code",
   "execution_count": 26,
   "metadata": {},
   "outputs": [],
   "source": [
    "#iterar sobre los tags de factura\n",
    "#generar un diccionario para ver los datos\n",
    "data={}\n",
    "for x in range(len(xml_comprobante)):\n",
    "    for j in xml_comprobante[x]:\n",
    "        data[j.tag]=j.text "
   ]
  },
  {
   "cell_type": "code",
   "execution_count": 27,
   "metadata": {},
   "outputs": [
    {
     "data": {
      "text/plain": [
       "{'ambiente': '2',\n",
       " 'tipoEmision': '1',\n",
       " 'razonSocial': 'COMERCIAL Comercial e Industrial S.A.',\n",
       " 'nombreComercial': 'COMERCIAL Comercial e Industrial S.A.',\n",
       " 'ruc': '1790040275001',\n",
       " 'claveAcceso': '2402202101179004027500120231010001808430085886517',\n",
       " 'codDoc': '01',\n",
       " 'estab': '023',\n",
       " 'ptoEmi': '101',\n",
       " 'secuencial': '000180843',\n",
       " 'dirMatriz': 'Av. Colón E4-81 y 9 de Octubre',\n",
       " 'fechaEmision': '24/03/2021',\n",
       " 'dirEstablecimiento': 'CALLE 1741 Y AV.CALLE C.C CALLE',\n",
       " 'contribuyenteEspecial': '5368',\n",
       " 'obligadoContabilidad': 'SI',\n",
       " 'tipoIdentificacionComprador': '05',\n",
       " 'razonSocialComprador': 'PULLUTASIG ACOSTA FERNANDO',\n",
       " 'identificacionComprador': '9999999999999',\n",
       " 'totalSinImpuestos': '16.06',\n",
       " 'totalDescuento': '0.00',\n",
       " 'totalConImpuestos': None,\n",
       " 'propina': '0.00',\n",
       " 'importeTotal': '17.99',\n",
       " 'moneda': 'DOLAR',\n",
       " 'pagos': None,\n",
       " 'detalle': None,\n",
       " 'campoAdicional': 'AV BOLIVARIANA Y TOLA|999994024|2021-02-24 valor: 17.9900|23-FP-858865||',\n",
       " '{http://www.w3.org/2000/09/xmldsig#}SignedInfo': '\\n',\n",
       " '{http://www.w3.org/2000/09/xmldsig#}SignatureValue': '\\nCi0+sZb+iBwm13mtv8/SdiZUPC+H4DBOwKqBagZo2xoW8AO12aNXAGwja23vAgWYUjb3sAocIm/0\\nwl75FKhgAbw9Hg/mbLVP0TtKDJVLbqcMfdMQJACQLybVT8OclwdWBR3qIs+xVjjFkMANIPWTBbpm\\nOw1ZKqrHPvo/NIDNErqfvrplfJ6FgfO0hV8ED9RjqODH9RhES+/ZHT7zuTrCxGuLk29eETCEsF5T\\nzSy5NLcjZhtKglTVKnon/ioH2U64XeMMRGtDy02fAwoxr/dKWgGYI/oDqjTFq4fOFNw+qq3cHkmL\\ntV+mwQhC5ytmVfObXviCvQltIW9p91iAyXja1Q==\\n',\n",
       " '{http://www.w3.org/2000/09/xmldsig#}KeyInfo': '\\n',\n",
       " '{http://www.w3.org/2000/09/xmldsig#}Object': None}"
      ]
     },
     "execution_count": 27,
     "metadata": {},
     "output_type": "execute_result"
    }
   ],
   "source": [
    "data"
   ]
  },
  {
   "cell_type": "code",
   "execution_count": 39,
   "metadata": {},
   "outputs": [
    {
     "data": {
      "text/plain": [
       "['Ejemplo2Fac.xml', 'EjemploFac.xml']"
      ]
     },
     "execution_count": 39,
     "metadata": {},
     "output_type": "execute_result"
    }
   ],
   "source": [
    "#facturas de las que se va extraer informacion\n",
    "#son las facturas que listamos\n",
    "#selecciono las dos facturas ejemplo \n",
    "facturas=list_fact[1:3]\n",
    "facturas"
   ]
  },
  {
   "cell_type": "code",
   "execution_count": 32,
   "metadata": {},
   "outputs": [],
   "source": [
    "#funcion para obtener datos de cada comprobante\n",
    "def obtener_dato(comprobante):\n",
    "    #generar nuevos xml de parte datos texto\n",
    "    comprobante=ET.fromstring(comprobante)\n",
    "    #diccionario a generar\n",
    "    data={}\n",
    "        #datos externos de comprobante\n",
    "    for x in range(len(comprobante)):\n",
    "        if x<3:\n",
    "            for j in comprobante[x]:\n",
    "                data[j.tag]=j.text        \n",
    "    return data"
   ]
  },
  {
   "cell_type": "code",
   "execution_count": 47,
   "metadata": {},
   "outputs": [],
   "source": [
    "#funcion para obtener las facturas del listado\n",
    "def parser(factura):\n",
    "    root=ET.parse(factura).getroot()\n",
    "    for i in root:\n",
    "        if i.tag=='comprobante':\n",
    "            comprobante=i.text\n",
    "        \n",
    "    return comprobante"
   ]
  },
  {
   "cell_type": "code",
   "execution_count": 50,
   "metadata": {},
   "outputs": [],
   "source": [
    "#usando las funciones para obtener datos\n",
    "#facturas seleccionadas \n",
    "data_df=[]\n",
    "for i in range(len(facturas)):\n",
    "    textos=parser(facturas[i])\n",
    "    data_df.append(obtener_dato(textos))"
   ]
  },
  {
   "cell_type": "code",
   "execution_count": 49,
   "metadata": {},
   "outputs": [
    {
     "data": {
      "text/html": [
       "<div>\n",
       "<style scoped>\n",
       "    .dataframe tbody tr th:only-of-type {\n",
       "        vertical-align: middle;\n",
       "    }\n",
       "\n",
       "    .dataframe tbody tr th {\n",
       "        vertical-align: top;\n",
       "    }\n",
       "\n",
       "    .dataframe thead th {\n",
       "        text-align: right;\n",
       "    }\n",
       "</style>\n",
       "<table border=\"1\" class=\"dataframe\">\n",
       "  <thead>\n",
       "    <tr style=\"text-align: right;\">\n",
       "      <th></th>\n",
       "      <th>ambiente</th>\n",
       "      <th>tipoEmision</th>\n",
       "      <th>razonSocial</th>\n",
       "      <th>nombreComercial</th>\n",
       "      <th>ruc</th>\n",
       "      <th>claveAcceso</th>\n",
       "      <th>codDoc</th>\n",
       "      <th>estab</th>\n",
       "      <th>ptoEmi</th>\n",
       "      <th>secuencial</th>\n",
       "      <th>...</th>\n",
       "      <th>razonSocialComprador</th>\n",
       "      <th>identificacionComprador</th>\n",
       "      <th>totalSinImpuestos</th>\n",
       "      <th>totalDescuento</th>\n",
       "      <th>totalConImpuestos</th>\n",
       "      <th>propina</th>\n",
       "      <th>importeTotal</th>\n",
       "      <th>moneda</th>\n",
       "      <th>pagos</th>\n",
       "      <th>detalle</th>\n",
       "    </tr>\n",
       "  </thead>\n",
       "  <tbody>\n",
       "    <tr>\n",
       "      <th>0</th>\n",
       "      <td>2</td>\n",
       "      <td>1</td>\n",
       "      <td>COMERCIAL Comercial e Industrial S.A.</td>\n",
       "      <td>COMERCIAL Comercial e Industrial S.A.</td>\n",
       "      <td>1790040275001</td>\n",
       "      <td>2402202101179004027500120231010001808430085886517</td>\n",
       "      <td>01</td>\n",
       "      <td>023</td>\n",
       "      <td>101</td>\n",
       "      <td>000180843</td>\n",
       "      <td>...</td>\n",
       "      <td>PULLUTASIG ACOSTA FERNANDO</td>\n",
       "      <td>9999999999999</td>\n",
       "      <td>16.06</td>\n",
       "      <td>0.00</td>\n",
       "      <td>None</td>\n",
       "      <td>0.00</td>\n",
       "      <td>17.99</td>\n",
       "      <td>DOLAR</td>\n",
       "      <td>None</td>\n",
       "      <td>None</td>\n",
       "    </tr>\n",
       "    <tr>\n",
       "      <th>1</th>\n",
       "      <td>2</td>\n",
       "      <td>1</td>\n",
       "      <td>PA-CO Comercial e Industrial S.A.</td>\n",
       "      <td>PA-CO Comercial e Industrial S.A.</td>\n",
       "      <td>1790040275001</td>\n",
       "      <td>2402202101179004027500120231010001808430085886517</td>\n",
       "      <td>01</td>\n",
       "      <td>023</td>\n",
       "      <td>101</td>\n",
       "      <td>000180843</td>\n",
       "      <td>...</td>\n",
       "      <td>PULLUTASIG ACOSTA FERNANDO</td>\n",
       "      <td>9999999999999</td>\n",
       "      <td>16.06</td>\n",
       "      <td>0.00</td>\n",
       "      <td>None</td>\n",
       "      <td>0.00</td>\n",
       "      <td>17.99</td>\n",
       "      <td>DOLAR</td>\n",
       "      <td>None</td>\n",
       "      <td>None</td>\n",
       "    </tr>\n",
       "  </tbody>\n",
       "</table>\n",
       "<p>2 rows × 26 columns</p>\n",
       "</div>"
      ],
      "text/plain": [
       "  ambiente tipoEmision                            razonSocial  \\\n",
       "0        2           1  COMERCIAL Comercial e Industrial S.A.   \n",
       "1        2           1      PA-CO Comercial e Industrial S.A.   \n",
       "\n",
       "                         nombreComercial            ruc  \\\n",
       "0  COMERCIAL Comercial e Industrial S.A.  1790040275001   \n",
       "1      PA-CO Comercial e Industrial S.A.  1790040275001   \n",
       "\n",
       "                                         claveAcceso codDoc estab ptoEmi  \\\n",
       "0  2402202101179004027500120231010001808430085886517     01   023    101   \n",
       "1  2402202101179004027500120231010001808430085886517     01   023    101   \n",
       "\n",
       "  secuencial  ...        razonSocialComprador identificacionComprador  \\\n",
       "0  000180843  ...  PULLUTASIG ACOSTA FERNANDO           9999999999999   \n",
       "1  000180843  ...  PULLUTASIG ACOSTA FERNANDO           9999999999999   \n",
       "\n",
       "  totalSinImpuestos totalDescuento totalConImpuestos propina importeTotal  \\\n",
       "0             16.06           0.00              None    0.00        17.99   \n",
       "1             16.06           0.00              None    0.00        17.99   \n",
       "\n",
       "  moneda pagos detalle  \n",
       "0  DOLAR  None    None  \n",
       "1  DOLAR  None    None  \n",
       "\n",
       "[2 rows x 26 columns]"
      ]
     },
     "execution_count": 49,
     "metadata": {},
     "output_type": "execute_result"
    }
   ],
   "source": [
    "#generar dataframe usando pandas\n",
    "df=pd.DataFrame(data_df)\n",
    "df"
   ]
  },
  {
   "cell_type": "code",
   "execution_count": null,
   "metadata": {},
   "outputs": [],
   "source": []
  }
 ],
 "metadata": {
  "kernelspec": {
   "display_name": "Python 3",
   "language": "python",
   "name": "python3"
  },
  "language_info": {
   "codemirror_mode": {
    "name": "ipython",
    "version": 3
   },
   "file_extension": ".py",
   "mimetype": "text/x-python",
   "name": "python",
   "nbconvert_exporter": "python",
   "pygments_lexer": "ipython3",
   "version": "3.8.5"
  }
 },
 "nbformat": 4,
 "nbformat_minor": 4
}
