{
 "cells": [
  {
   "cell_type": "code",
   "execution_count": 1,
   "metadata": {},
   "outputs": [],
   "source": [
    "#importar la librerias\n",
    "import pandas as pd\n",
    "import os\n",
    "import matplotlib.pyplot as plt\n",
    "import re\n",
    "import datetime as dt\n",
    "import seaborn as sns\n",
    "\n",
    "plt.style.use('seaborn')\n",
    "sns.set_style('darkgrid')\n"
   ]
  },
  {
   "cell_type": "code",
   "execution_count": 2,
   "metadata": {},
   "outputs": [
    {
     "data": {
      "text/plain": [
       "['Sales_May_2019.csv',\n",
       " 'Sales_November_2019.csv',\n",
       " 'Sales_April_2019.csv',\n",
       " 'Sales_January_2019.csv',\n",
       " 'Sales_September_2019.csv',\n",
       " 'Sales_February_2019.csv',\n",
       " 'Sales_July_2019.csv',\n",
       " 'Sales_March_2019.csv',\n",
       " 'Sales_August_2019.csv',\n",
       " 'Sales_June_2019.csv',\n",
       " 'Sales_December_2019.csv',\n",
       " 'Sales_October_2019.csv']"
      ]
     },
     "execution_count": 2,
     "metadata": {},
     "output_type": "execute_result"
    }
   ],
   "source": [
    "os.listdir('files')"
   ]
  },
  {
   "cell_type": "code",
   "execution_count": 4,
   "metadata": {},
   "outputs": [],
   "source": [
    "#leactura de csv de pandas\n",
    "df=pd.DataFrame()"
   ]
  },
  {
   "cell_type": "code",
   "execution_count": null,
   "metadata": {},
   "outputs": [],
   "source": []
  },
  {
   "cell_type": "code",
   "execution_count": 294,
   "metadata": {},
   "outputs": [],
   "source": [
    "files=os.listdir('files')\n",
    "for x in files:\n",
    "    file=pd.read_csv('files/'+x)\n",
    "    df=pd.concat([file,df])\n"
   ]
  },
  {
   "cell_type": "code",
   "execution_count": 5,
   "metadata": {},
   "outputs": [
    {
     "data": {
      "text/html": [
       "<div>\n",
       "<style scoped>\n",
       "    .dataframe tbody tr th:only-of-type {\n",
       "        vertical-align: middle;\n",
       "    }\n",
       "\n",
       "    .dataframe tbody tr th {\n",
       "        vertical-align: top;\n",
       "    }\n",
       "\n",
       "    .dataframe thead th {\n",
       "        text-align: right;\n",
       "    }\n",
       "</style>\n",
       "<table border=\"1\" class=\"dataframe\">\n",
       "  <thead>\n",
       "    <tr style=\"text-align: right;\">\n",
       "      <th></th>\n",
       "    </tr>\n",
       "  </thead>\n",
       "  <tbody>\n",
       "  </tbody>\n",
       "</table>\n",
       "</div>"
      ],
      "text/plain": [
       "Empty DataFrame\n",
       "Columns: []\n",
       "Index: []"
      ]
     },
     "execution_count": 5,
     "metadata": {},
     "output_type": "execute_result"
    }
   ],
   "source": [
    "df.head()"
   ]
  },
  {
   "cell_type": "code",
   "execution_count": 6,
   "metadata": {},
   "outputs": [
    {
     "name": "stdout",
     "output_type": "stream",
     "text": [
      "<class 'pandas.core.frame.DataFrame'>\n",
      "Index: 0 entries\n",
      "Empty DataFrame"
     ]
    }
   ],
   "source": [
    "df.info()"
   ]
  },
  {
   "cell_type": "code",
   "execution_count": 7,
   "metadata": {},
   "outputs": [
    {
     "data": {
      "text/plain": [
       "Series([], dtype: object)"
      ]
     },
     "execution_count": 7,
     "metadata": {},
     "output_type": "execute_result"
    }
   ],
   "source": [
    "df.dtypes"
   ]
  },
  {
   "cell_type": "code",
   "execution_count": 8,
   "metadata": {},
   "outputs": [
    {
     "ename": "KeyError",
     "evalue": "'Order ID'",
     "output_type": "error",
     "traceback": [
      "\u001b[0;31m---------------------------------------------------------------------------\u001b[0m",
      "\u001b[0;31mKeyError\u001b[0m                                  Traceback (most recent call last)",
      "File \u001b[0;32m~/anaconda3/lib/python3.9/site-packages/pandas/core/indexes/base.py:3621\u001b[0m, in \u001b[0;36mIndex.get_loc\u001b[0;34m(self, key, method, tolerance)\u001b[0m\n\u001b[1;32m   3620\u001b[0m \u001b[38;5;28;01mtry\u001b[39;00m:\n\u001b[0;32m-> 3621\u001b[0m     \u001b[38;5;28;01mreturn\u001b[39;00m \u001b[38;5;28;43mself\u001b[39;49m\u001b[38;5;241;43m.\u001b[39;49m\u001b[43m_engine\u001b[49m\u001b[38;5;241;43m.\u001b[39;49m\u001b[43mget_loc\u001b[49m\u001b[43m(\u001b[49m\u001b[43mcasted_key\u001b[49m\u001b[43m)\u001b[49m\n\u001b[1;32m   3622\u001b[0m \u001b[38;5;28;01mexcept\u001b[39;00m \u001b[38;5;167;01mKeyError\u001b[39;00m \u001b[38;5;28;01mas\u001b[39;00m err:\n",
      "File \u001b[0;32m~/anaconda3/lib/python3.9/site-packages/pandas/_libs/index.pyx:136\u001b[0m, in \u001b[0;36mpandas._libs.index.IndexEngine.get_loc\u001b[0;34m()\u001b[0m\n",
      "File \u001b[0;32m~/anaconda3/lib/python3.9/site-packages/pandas/_libs/index.pyx:163\u001b[0m, in \u001b[0;36mpandas._libs.index.IndexEngine.get_loc\u001b[0;34m()\u001b[0m\n",
      "File \u001b[0;32mpandas/_libs/hashtable_class_helper.pxi:5198\u001b[0m, in \u001b[0;36mpandas._libs.hashtable.PyObjectHashTable.get_item\u001b[0;34m()\u001b[0m\n",
      "File \u001b[0;32mpandas/_libs/hashtable_class_helper.pxi:5206\u001b[0m, in \u001b[0;36mpandas._libs.hashtable.PyObjectHashTable.get_item\u001b[0;34m()\u001b[0m\n",
      "\u001b[0;31mKeyError\u001b[0m: 'Order ID'",
      "\nThe above exception was the direct cause of the following exception:\n",
      "\u001b[0;31mKeyError\u001b[0m                                  Traceback (most recent call last)",
      "Input \u001b[0;32mIn [8]\u001b[0m, in \u001b[0;36m<cell line: 2>\u001b[0;34m()\u001b[0m\n\u001b[1;32m      1\u001b[0m \u001b[38;5;66;03m#conteo de valores nulos\u001b[39;00m\n\u001b[0;32m----> 2\u001b[0m \u001b[43mdf\u001b[49m\u001b[43m[\u001b[49m\u001b[38;5;124;43m'\u001b[39;49m\u001b[38;5;124;43mOrder ID\u001b[39;49m\u001b[38;5;124;43m'\u001b[39;49m\u001b[43m]\u001b[49m\u001b[38;5;241m.\u001b[39misnull()\u001b[38;5;241m.\u001b[39mvalue_counts()\n",
      "File \u001b[0;32m~/anaconda3/lib/python3.9/site-packages/pandas/core/frame.py:3505\u001b[0m, in \u001b[0;36mDataFrame.__getitem__\u001b[0;34m(self, key)\u001b[0m\n\u001b[1;32m   3503\u001b[0m \u001b[38;5;28;01mif\u001b[39;00m \u001b[38;5;28mself\u001b[39m\u001b[38;5;241m.\u001b[39mcolumns\u001b[38;5;241m.\u001b[39mnlevels \u001b[38;5;241m>\u001b[39m \u001b[38;5;241m1\u001b[39m:\n\u001b[1;32m   3504\u001b[0m     \u001b[38;5;28;01mreturn\u001b[39;00m \u001b[38;5;28mself\u001b[39m\u001b[38;5;241m.\u001b[39m_getitem_multilevel(key)\n\u001b[0;32m-> 3505\u001b[0m indexer \u001b[38;5;241m=\u001b[39m \u001b[38;5;28;43mself\u001b[39;49m\u001b[38;5;241;43m.\u001b[39;49m\u001b[43mcolumns\u001b[49m\u001b[38;5;241;43m.\u001b[39;49m\u001b[43mget_loc\u001b[49m\u001b[43m(\u001b[49m\u001b[43mkey\u001b[49m\u001b[43m)\u001b[49m\n\u001b[1;32m   3506\u001b[0m \u001b[38;5;28;01mif\u001b[39;00m is_integer(indexer):\n\u001b[1;32m   3507\u001b[0m     indexer \u001b[38;5;241m=\u001b[39m [indexer]\n",
      "File \u001b[0;32m~/anaconda3/lib/python3.9/site-packages/pandas/core/indexes/base.py:3623\u001b[0m, in \u001b[0;36mIndex.get_loc\u001b[0;34m(self, key, method, tolerance)\u001b[0m\n\u001b[1;32m   3621\u001b[0m     \u001b[38;5;28;01mreturn\u001b[39;00m \u001b[38;5;28mself\u001b[39m\u001b[38;5;241m.\u001b[39m_engine\u001b[38;5;241m.\u001b[39mget_loc(casted_key)\n\u001b[1;32m   3622\u001b[0m \u001b[38;5;28;01mexcept\u001b[39;00m \u001b[38;5;167;01mKeyError\u001b[39;00m \u001b[38;5;28;01mas\u001b[39;00m err:\n\u001b[0;32m-> 3623\u001b[0m     \u001b[38;5;28;01mraise\u001b[39;00m \u001b[38;5;167;01mKeyError\u001b[39;00m(key) \u001b[38;5;28;01mfrom\u001b[39;00m \u001b[38;5;21;01merr\u001b[39;00m\n\u001b[1;32m   3624\u001b[0m \u001b[38;5;28;01mexcept\u001b[39;00m \u001b[38;5;167;01mTypeError\u001b[39;00m:\n\u001b[1;32m   3625\u001b[0m     \u001b[38;5;66;03m# If we have a listlike key, _check_indexing_error will raise\u001b[39;00m\n\u001b[1;32m   3626\u001b[0m     \u001b[38;5;66;03m#  InvalidIndexError. Otherwise we fall through and re-raise\u001b[39;00m\n\u001b[1;32m   3627\u001b[0m     \u001b[38;5;66;03m#  the TypeError.\u001b[39;00m\n\u001b[1;32m   3628\u001b[0m     \u001b[38;5;28mself\u001b[39m\u001b[38;5;241m.\u001b[39m_check_indexing_error(key)\n",
      "\u001b[0;31mKeyError\u001b[0m: 'Order ID'"
     ]
    }
   ],
   "source": [
    "#conteo de valores nulos\n",
    "df['Order ID'].isnull().value_counts()"
   ]
  },
  {
   "cell_type": "code",
   "execution_count": null,
   "metadata": {},
   "outputs": [],
   "source": [
    "df=df[df['Order ID'].notnull()]"
   ]
  },
  {
   "cell_type": "code",
   "execution_count": null,
   "metadata": {},
   "outputs": [],
   "source": [
    "df.isnull().value_counts()"
   ]
  },
  {
   "cell_type": "code",
   "execution_count": null,
   "metadata": {},
   "outputs": [],
   "source": [
    "#definir el tipo de cada variable\n",
    "df.head()"
   ]
  },
  {
   "cell_type": "code",
   "execution_count": 302,
   "metadata": {},
   "outputs": [],
   "source": [
    "df=df[df['Product']!='Product']"
   ]
  },
  {
   "cell_type": "code",
   "execution_count": 303,
   "metadata": {},
   "outputs": [],
   "source": [
    "df['Quantity Ordered']=df['Quantity Ordered'].astype('int64')\n",
    "df['Price Each']=df['Price Each'].astype('float')\n",
    "df['Order Date']=pd.to_datetime(df['Order Date'])"
   ]
  },
  {
   "cell_type": "code",
   "execution_count": 304,
   "metadata": {},
   "outputs": [
    {
     "name": "stdout",
     "output_type": "stream",
     "text": [
      "<class 'pandas.core.frame.DataFrame'>\n",
      "Int64Index: 185950 entries, 0 to 18382\n",
      "Data columns (total 6 columns):\n",
      " #   Column            Non-Null Count   Dtype         \n",
      "---  ------            --------------   -----         \n",
      " 0   Order ID          185950 non-null  object        \n",
      " 1   Product           185950 non-null  object        \n",
      " 2   Quantity Ordered  185950 non-null  int64         \n",
      " 3   Price Each        185950 non-null  float64       \n",
      " 4   Order Date        185950 non-null  datetime64[ns]\n",
      " 5   Purchase Address  185950 non-null  object        \n",
      "dtypes: datetime64[ns](1), float64(1), int64(1), object(3)\n",
      "memory usage: 9.9+ MB\n"
     ]
    }
   ],
   "source": [
    "df.info()"
   ]
  },
  {
   "cell_type": "markdown",
   "metadata": {},
   "source": [
    "# CUAL FUE EL MES CON LA VENTA MAS ALTA"
   ]
  },
  {
   "cell_type": "code",
   "execution_count": 305,
   "metadata": {},
   "outputs": [],
   "source": [
    "#extraer el mes\n",
    "df['Mes']=df['Order Date'].dt.month\\\n",
    "\n",
    "#realizar la multiplicacion de precio por cantidad\n",
    "df['Total_Ventas']=df['Quantity Ordered']*df['Price Each']"
   ]
  },
  {
   "cell_type": "code",
   "execution_count": 306,
   "metadata": {},
   "outputs": [],
   "source": [
    "#agrupaciones primero por mes\n",
    "df_mes=df.groupby('Mes').sum()\n",
    "\n",
    "#resetear el indice\n",
    "df_mes=df_mes.reset_index()\n"
   ]
  },
  {
   "cell_type": "code",
   "execution_count": 307,
   "metadata": {
    "scrolled": false
   },
   "outputs": [
    {
     "data": {
      "image/png": "[encoded data removed]",
      "text/plain": [
       "<Figure size 1152x504 with 2 Axes>"
      ]
     },
     "metadata": {},
     "output_type": "display_data"
    }
   ],
   "source": [
    "#subplot de graficos\n",
    "fig, axes=plt.subplots(1,2, figsize=(16,7))\n",
    "ax1=plt.subplot(1,2,1)\n",
    "ax2=plt.subplot(1,2,2)\n",
    "bars=ax1.bar(df_mes['Mes'], df_mes['Total_Ventas'])\n",
    "ax2.plot(df_fecha['Total_Ventas'])\n",
    "ax1.set_xticks(df_mes['Mes'])\n",
    "ax1.set_title('Ventas por Mes', size=18)\n",
    "ax2.set_title('Tendencia de Ventas Por Semana', size=18)\n",
    "\n",
    "ax1.set_xlabel('Meses')\n",
    "ax1.set_ylabel('Ventas en Millones')\n",
    "bars[11].set_color('#005f73')\n",
    "\n",
    "plt.show()\n"
   ]
  },
  {
   "cell_type": "code",
   "execution_count": 308,
   "metadata": {
    "scrolled": true
   },
   "outputs": [],
   "source": [
    "#df_mes"
   ]
  },
  {
   "cell_type": "code",
   "execution_count": 309,
   "metadata": {},
   "outputs": [],
   "source": [
    "#agrupacion la voy haver por fecha\n",
    "df_fecha=df.groupby('Order Date').sum()"
   ]
  },
  {
   "cell_type": "code",
   "execution_count": 310,
   "metadata": {},
   "outputs": [],
   "source": [
    "df_fecha=df_fecha.resample('W').sum()\n",
    "#df_fecha"
   ]
  },
  {
   "cell_type": "code",
   "execution_count": 311,
   "metadata": {},
   "outputs": [
    {
     "data": {
      "text/html": [
       "<div>\n",
       "<style scoped>\n",
       "    .dataframe tbody tr th:only-of-type {\n",
       "        vertical-align: middle;\n",
       "    }\n",
       "\n",
       "    .dataframe tbody tr th {\n",
       "        vertical-align: top;\n",
       "    }\n",
       "\n",
       "    .dataframe thead th {\n",
       "        text-align: right;\n",
       "    }\n",
       "</style>\n",
       "<table border=\"1\" class=\"dataframe\">\n",
       "  <thead>\n",
       "    <tr style=\"text-align: right;\">\n",
       "      <th></th>\n",
       "      <th>Order ID</th>\n",
       "      <th>Product</th>\n",
       "      <th>Quantity Ordered</th>\n",
       "      <th>Price Each</th>\n",
       "      <th>Order Date</th>\n",
       "      <th>Purchase Address</th>\n",
       "      <th>Mes</th>\n",
       "      <th>Total_Ventas</th>\n",
       "    </tr>\n",
       "  </thead>\n",
       "  <tbody>\n",
       "    <tr>\n",
       "      <th>0</th>\n",
       "      <td>248151</td>\n",
       "      <td>AA Batteries (4-pack)</td>\n",
       "      <td>4</td>\n",
       "      <td>3.84</td>\n",
       "      <td>2019-09-17 14:44:00</td>\n",
       "      <td>380 North St, Los Angeles, CA 90001</td>\n",
       "      <td>9</td>\n",
       "      <td>15.36</td>\n",
       "    </tr>\n",
       "    <tr>\n",
       "      <th>1</th>\n",
       "      <td>248152</td>\n",
       "      <td>USB-C Charging Cable</td>\n",
       "      <td>2</td>\n",
       "      <td>11.95</td>\n",
       "      <td>2019-09-29 10:19:00</td>\n",
       "      <td>511 8th St, Austin, TX 73301</td>\n",
       "      <td>9</td>\n",
       "      <td>23.90</td>\n",
       "    </tr>\n",
       "    <tr>\n",
       "      <th>2</th>\n",
       "      <td>248153</td>\n",
       "      <td>USB-C Charging Cable</td>\n",
       "      <td>1</td>\n",
       "      <td>11.95</td>\n",
       "      <td>2019-09-16 17:48:00</td>\n",
       "      <td>151 Johnson St, Los Angeles, CA 90001</td>\n",
       "      <td>9</td>\n",
       "      <td>11.95</td>\n",
       "    </tr>\n",
       "    <tr>\n",
       "      <th>3</th>\n",
       "      <td>248154</td>\n",
       "      <td>27in FHD Monitor</td>\n",
       "      <td>1</td>\n",
       "      <td>149.99</td>\n",
       "      <td>2019-09-27 07:52:00</td>\n",
       "      <td>355 Hickory St, Seattle, WA 98101</td>\n",
       "      <td>9</td>\n",
       "      <td>149.99</td>\n",
       "    </tr>\n",
       "    <tr>\n",
       "      <th>4</th>\n",
       "      <td>248155</td>\n",
       "      <td>USB-C Charging Cable</td>\n",
       "      <td>1</td>\n",
       "      <td>11.95</td>\n",
       "      <td>2019-09-01 19:03:00</td>\n",
       "      <td>125 5th St, Atlanta, GA 30301</td>\n",
       "      <td>9</td>\n",
       "      <td>11.95</td>\n",
       "    </tr>\n",
       "  </tbody>\n",
       "</table>\n",
       "</div>"
      ],
      "text/plain": [
       "  Order ID                Product  Quantity Ordered  Price Each  \\\n",
       "0   248151  AA Batteries (4-pack)                 4        3.84   \n",
       "1   248152   USB-C Charging Cable                 2       11.95   \n",
       "2   248153   USB-C Charging Cable                 1       11.95   \n",
       "3   248154       27in FHD Monitor                 1      149.99   \n",
       "4   248155   USB-C Charging Cable                 1       11.95   \n",
       "\n",
       "           Order Date                       Purchase Address  Mes  \\\n",
       "0 2019-09-17 14:44:00    380 North St, Los Angeles, CA 90001    9   \n",
       "1 2019-09-29 10:19:00           511 8th St, Austin, TX 73301    9   \n",
       "2 2019-09-16 17:48:00  151 Johnson St, Los Angeles, CA 90001    9   \n",
       "3 2019-09-27 07:52:00      355 Hickory St, Seattle, WA 98101    9   \n",
       "4 2019-09-01 19:03:00          125 5th St, Atlanta, GA 30301    9   \n",
       "\n",
       "   Total_Ventas  \n",
       "0         15.36  \n",
       "1         23.90  \n",
       "2         11.95  \n",
       "3        149.99  \n",
       "4         11.95  "
      ]
     },
     "execution_count": 311,
     "metadata": {},
     "output_type": "execute_result"
    }
   ],
   "source": [
    "df.head()"
   ]
  },
  {
   "cell_type": "markdown",
   "metadata": {},
   "source": [
    "# CUAL ES LA CIUDAD CON MAYOR VENTA"
   ]
  },
  {
   "cell_type": "code",
   "execution_count": 312,
   "metadata": {},
   "outputs": [
    {
     "data": {
      "text/html": [
       "<div>\n",
       "<style scoped>\n",
       "    .dataframe tbody tr th:only-of-type {\n",
       "        vertical-align: middle;\n",
       "    }\n",
       "\n",
       "    .dataframe tbody tr th {\n",
       "        vertical-align: top;\n",
       "    }\n",
       "\n",
       "    .dataframe thead th {\n",
       "        text-align: right;\n",
       "    }\n",
       "</style>\n",
       "<table border=\"1\" class=\"dataframe\">\n",
       "  <thead>\n",
       "    <tr style=\"text-align: right;\">\n",
       "      <th></th>\n",
       "      <th>Order ID</th>\n",
       "      <th>Product</th>\n",
       "      <th>Quantity Ordered</th>\n",
       "      <th>Price Each</th>\n",
       "      <th>Order Date</th>\n",
       "      <th>Purchase Address</th>\n",
       "      <th>Mes</th>\n",
       "      <th>Total_Ventas</th>\n",
       "      <th>Ciudad</th>\n",
       "    </tr>\n",
       "  </thead>\n",
       "  <tbody>\n",
       "    <tr>\n",
       "      <th>0</th>\n",
       "      <td>248151</td>\n",
       "      <td>AA Batteries (4-pack)</td>\n",
       "      <td>4</td>\n",
       "      <td>3.84</td>\n",
       "      <td>2019-09-17 14:44:00</td>\n",
       "      <td>380 North St, Los Angeles, CA 90001</td>\n",
       "      <td>9</td>\n",
       "      <td>15.36</td>\n",
       "      <td>Los Angeles</td>\n",
       "    </tr>\n",
       "    <tr>\n",
       "      <th>1</th>\n",
       "      <td>248152</td>\n",
       "      <td>USB-C Charging Cable</td>\n",
       "      <td>2</td>\n",
       "      <td>11.95</td>\n",
       "      <td>2019-09-29 10:19:00</td>\n",
       "      <td>511 8th St, Austin, TX 73301</td>\n",
       "      <td>9</td>\n",
       "      <td>23.90</td>\n",
       "      <td>Austin</td>\n",
       "    </tr>\n",
       "    <tr>\n",
       "      <th>2</th>\n",
       "      <td>248153</td>\n",
       "      <td>USB-C Charging Cable</td>\n",
       "      <td>1</td>\n",
       "      <td>11.95</td>\n",
       "      <td>2019-09-16 17:48:00</td>\n",
       "      <td>151 Johnson St, Los Angeles, CA 90001</td>\n",
       "      <td>9</td>\n",
       "      <td>11.95</td>\n",
       "      <td>Los Angeles</td>\n",
       "    </tr>\n",
       "    <tr>\n",
       "      <th>3</th>\n",
       "      <td>248154</td>\n",
       "      <td>27in FHD Monitor</td>\n",
       "      <td>1</td>\n",
       "      <td>149.99</td>\n",
       "      <td>2019-09-27 07:52:00</td>\n",
       "      <td>355 Hickory St, Seattle, WA 98101</td>\n",
       "      <td>9</td>\n",
       "      <td>149.99</td>\n",
       "      <td>Seattle</td>\n",
       "    </tr>\n",
       "    <tr>\n",
       "      <th>4</th>\n",
       "      <td>248155</td>\n",
       "      <td>USB-C Charging Cable</td>\n",
       "      <td>1</td>\n",
       "      <td>11.95</td>\n",
       "      <td>2019-09-01 19:03:00</td>\n",
       "      <td>125 5th St, Atlanta, GA 30301</td>\n",
       "      <td>9</td>\n",
       "      <td>11.95</td>\n",
       "      <td>Atlanta</td>\n",
       "    </tr>\n",
       "  </tbody>\n",
       "</table>\n",
       "</div>"
      ],
      "text/plain": [
       "  Order ID                Product  Quantity Ordered  Price Each  \\\n",
       "0   248151  AA Batteries (4-pack)                 4        3.84   \n",
       "1   248152   USB-C Charging Cable                 2       11.95   \n",
       "2   248153   USB-C Charging Cable                 1       11.95   \n",
       "3   248154       27in FHD Monitor                 1      149.99   \n",
       "4   248155   USB-C Charging Cable                 1       11.95   \n",
       "\n",
       "           Order Date                       Purchase Address  Mes  \\\n",
       "0 2019-09-17 14:44:00    380 North St, Los Angeles, CA 90001    9   \n",
       "1 2019-09-29 10:19:00           511 8th St, Austin, TX 73301    9   \n",
       "2 2019-09-16 17:48:00  151 Johnson St, Los Angeles, CA 90001    9   \n",
       "3 2019-09-27 07:52:00      355 Hickory St, Seattle, WA 98101    9   \n",
       "4 2019-09-01 19:03:00          125 5th St, Atlanta, GA 30301    9   \n",
       "\n",
       "   Total_Ventas        Ciudad  \n",
       "0         15.36   Los Angeles  \n",
       "1         23.90        Austin  \n",
       "2         11.95   Los Angeles  \n",
       "3        149.99       Seattle  \n",
       "4         11.95       Atlanta  "
      ]
     },
     "execution_count": 312,
     "metadata": {},
     "output_type": "execute_result"
    }
   ],
   "source": [
    "df['Ciudad']=df['Purchase Address'].apply(lambda x: x.split(',')[1])\n",
    "df.head()"
   ]
  },
  {
   "cell_type": "code",
   "execution_count": 313,
   "metadata": {},
   "outputs": [],
   "source": [
    "#grafica para ver la ciudad\n",
    "df_ciudad=df.groupby('Ciudad').sum()\n",
    "\n",
    "df_ciudad=df_ciudad.reset_index()\n"
   ]
  },
  {
   "cell_type": "code",
   "execution_count": 314,
   "metadata": {},
   "outputs": [
    {
     "data": {
      "image/png": "[encoded data removed]",
      "text/plain": [
       "<Figure size 576x396 with 1 Axes>"
      ]
     },
     "metadata": {},
     "output_type": "display_data"
    }
   ],
   "source": [
    "bars=plt.bar(df_ciudad['Ciudad'], df_ciudad['Total_Ventas'])\n",
    "plt.xticks(rotation=90)\n",
    "bars[7].set_color('r')\n",
    "plt.show()"
   ]
  },
  {
   "cell_type": "code",
   "execution_count": null,
   "metadata": {},
   "outputs": [],
   "source": []
  },
  {
   "cell_type": "markdown",
   "metadata": {},
   "source": [
    "# CUAL ES LA HORA A QUE MAS SE VENDEN PRODUCTOS"
   ]
  },
  {
   "cell_type": "code",
   "execution_count": 315,
   "metadata": {},
   "outputs": [
    {
     "data": {
      "text/html": [
       "<div>\n",
       "<style scoped>\n",
       "    .dataframe tbody tr th:only-of-type {\n",
       "        vertical-align: middle;\n",
       "    }\n",
       "\n",
       "    .dataframe tbody tr th {\n",
       "        vertical-align: top;\n",
       "    }\n",
       "\n",
       "    .dataframe thead th {\n",
       "        text-align: right;\n",
       "    }\n",
       "</style>\n",
       "<table border=\"1\" class=\"dataframe\">\n",
       "  <thead>\n",
       "    <tr style=\"text-align: right;\">\n",
       "      <th></th>\n",
       "      <th>Order ID</th>\n",
       "      <th>Product</th>\n",
       "      <th>Quantity Ordered</th>\n",
       "      <th>Price Each</th>\n",
       "      <th>Order Date</th>\n",
       "      <th>Purchase Address</th>\n",
       "      <th>Mes</th>\n",
       "      <th>Total_Ventas</th>\n",
       "      <th>Ciudad</th>\n",
       "    </tr>\n",
       "  </thead>\n",
       "  <tbody>\n",
       "    <tr>\n",
       "      <th>0</th>\n",
       "      <td>248151</td>\n",
       "      <td>AA Batteries (4-pack)</td>\n",
       "      <td>4</td>\n",
       "      <td>3.84</td>\n",
       "      <td>2019-09-17 14:44:00</td>\n",
       "      <td>380 North St, Los Angeles, CA 90001</td>\n",
       "      <td>9</td>\n",
       "      <td>15.36</td>\n",
       "      <td>Los Angeles</td>\n",
       "    </tr>\n",
       "    <tr>\n",
       "      <th>1</th>\n",
       "      <td>248152</td>\n",
       "      <td>USB-C Charging Cable</td>\n",
       "      <td>2</td>\n",
       "      <td>11.95</td>\n",
       "      <td>2019-09-29 10:19:00</td>\n",
       "      <td>511 8th St, Austin, TX 73301</td>\n",
       "      <td>9</td>\n",
       "      <td>23.90</td>\n",
       "      <td>Austin</td>\n",
       "    </tr>\n",
       "    <tr>\n",
       "      <th>2</th>\n",
       "      <td>248153</td>\n",
       "      <td>USB-C Charging Cable</td>\n",
       "      <td>1</td>\n",
       "      <td>11.95</td>\n",
       "      <td>2019-09-16 17:48:00</td>\n",
       "      <td>151 Johnson St, Los Angeles, CA 90001</td>\n",
       "      <td>9</td>\n",
       "      <td>11.95</td>\n",
       "      <td>Los Angeles</td>\n",
       "    </tr>\n",
       "    <tr>\n",
       "      <th>3</th>\n",
       "      <td>248154</td>\n",
       "      <td>27in FHD Monitor</td>\n",
       "      <td>1</td>\n",
       "      <td>149.99</td>\n",
       "      <td>2019-09-27 07:52:00</td>\n",
       "      <td>355 Hickory St, Seattle, WA 98101</td>\n",
       "      <td>9</td>\n",
       "      <td>149.99</td>\n",
       "      <td>Seattle</td>\n",
       "    </tr>\n",
       "    <tr>\n",
       "      <th>4</th>\n",
       "      <td>248155</td>\n",
       "      <td>USB-C Charging Cable</td>\n",
       "      <td>1</td>\n",
       "      <td>11.95</td>\n",
       "      <td>2019-09-01 19:03:00</td>\n",
       "      <td>125 5th St, Atlanta, GA 30301</td>\n",
       "      <td>9</td>\n",
       "      <td>11.95</td>\n",
       "      <td>Atlanta</td>\n",
       "    </tr>\n",
       "  </tbody>\n",
       "</table>\n",
       "</div>"
      ],
      "text/plain": [
       "  Order ID                Product  Quantity Ordered  Price Each  \\\n",
       "0   248151  AA Batteries (4-pack)                 4        3.84   \n",
       "1   248152   USB-C Charging Cable                 2       11.95   \n",
       "2   248153   USB-C Charging Cable                 1       11.95   \n",
       "3   248154       27in FHD Monitor                 1      149.99   \n",
       "4   248155   USB-C Charging Cable                 1       11.95   \n",
       "\n",
       "           Order Date                       Purchase Address  Mes  \\\n",
       "0 2019-09-17 14:44:00    380 North St, Los Angeles, CA 90001    9   \n",
       "1 2019-09-29 10:19:00           511 8th St, Austin, TX 73301    9   \n",
       "2 2019-09-16 17:48:00  151 Johnson St, Los Angeles, CA 90001    9   \n",
       "3 2019-09-27 07:52:00      355 Hickory St, Seattle, WA 98101    9   \n",
       "4 2019-09-01 19:03:00          125 5th St, Atlanta, GA 30301    9   \n",
       "\n",
       "   Total_Ventas        Ciudad  \n",
       "0         15.36   Los Angeles  \n",
       "1         23.90        Austin  \n",
       "2         11.95   Los Angeles  \n",
       "3        149.99       Seattle  \n",
       "4         11.95       Atlanta  "
      ]
     },
     "execution_count": 315,
     "metadata": {},
     "output_type": "execute_result"
    }
   ],
   "source": [
    "df.head()"
   ]
  },
  {
   "cell_type": "code",
   "execution_count": 316,
   "metadata": {},
   "outputs": [
    {
     "data": {
      "text/html": [
       "<div>\n",
       "<style scoped>\n",
       "    .dataframe tbody tr th:only-of-type {\n",
       "        vertical-align: middle;\n",
       "    }\n",
       "\n",
       "    .dataframe tbody tr th {\n",
       "        vertical-align: top;\n",
       "    }\n",
       "\n",
       "    .dataframe thead th {\n",
       "        text-align: right;\n",
       "    }\n",
       "</style>\n",
       "<table border=\"1\" class=\"dataframe\">\n",
       "  <thead>\n",
       "    <tr style=\"text-align: right;\">\n",
       "      <th></th>\n",
       "      <th>Order ID</th>\n",
       "      <th>Product</th>\n",
       "      <th>Quantity Ordered</th>\n",
       "      <th>Price Each</th>\n",
       "      <th>Order Date</th>\n",
       "      <th>Purchase Address</th>\n",
       "      <th>Mes</th>\n",
       "      <th>Total_Ventas</th>\n",
       "      <th>Ciudad</th>\n",
       "      <th>Hora</th>\n",
       "    </tr>\n",
       "  </thead>\n",
       "  <tbody>\n",
       "    <tr>\n",
       "      <th>0</th>\n",
       "      <td>248151</td>\n",
       "      <td>AA Batteries (4-pack)</td>\n",
       "      <td>4</td>\n",
       "      <td>3.84</td>\n",
       "      <td>2019-09-17 14:44:00</td>\n",
       "      <td>380 North St, Los Angeles, CA 90001</td>\n",
       "      <td>9</td>\n",
       "      <td>15.36</td>\n",
       "      <td>Los Angeles</td>\n",
       "      <td>14</td>\n",
       "    </tr>\n",
       "    <tr>\n",
       "      <th>1</th>\n",
       "      <td>248152</td>\n",
       "      <td>USB-C Charging Cable</td>\n",
       "      <td>2</td>\n",
       "      <td>11.95</td>\n",
       "      <td>2019-09-29 10:19:00</td>\n",
       "      <td>511 8th St, Austin, TX 73301</td>\n",
       "      <td>9</td>\n",
       "      <td>23.90</td>\n",
       "      <td>Austin</td>\n",
       "      <td>10</td>\n",
       "    </tr>\n",
       "    <tr>\n",
       "      <th>2</th>\n",
       "      <td>248153</td>\n",
       "      <td>USB-C Charging Cable</td>\n",
       "      <td>1</td>\n",
       "      <td>11.95</td>\n",
       "      <td>2019-09-16 17:48:00</td>\n",
       "      <td>151 Johnson St, Los Angeles, CA 90001</td>\n",
       "      <td>9</td>\n",
       "      <td>11.95</td>\n",
       "      <td>Los Angeles</td>\n",
       "      <td>17</td>\n",
       "    </tr>\n",
       "    <tr>\n",
       "      <th>3</th>\n",
       "      <td>248154</td>\n",
       "      <td>27in FHD Monitor</td>\n",
       "      <td>1</td>\n",
       "      <td>149.99</td>\n",
       "      <td>2019-09-27 07:52:00</td>\n",
       "      <td>355 Hickory St, Seattle, WA 98101</td>\n",
       "      <td>9</td>\n",
       "      <td>149.99</td>\n",
       "      <td>Seattle</td>\n",
       "      <td>7</td>\n",
       "    </tr>\n",
       "    <tr>\n",
       "      <th>4</th>\n",
       "      <td>248155</td>\n",
       "      <td>USB-C Charging Cable</td>\n",
       "      <td>1</td>\n",
       "      <td>11.95</td>\n",
       "      <td>2019-09-01 19:03:00</td>\n",
       "      <td>125 5th St, Atlanta, GA 30301</td>\n",
       "      <td>9</td>\n",
       "      <td>11.95</td>\n",
       "      <td>Atlanta</td>\n",
       "      <td>19</td>\n",
       "    </tr>\n",
       "  </tbody>\n",
       "</table>\n",
       "</div>"
      ],
      "text/plain": [
       "  Order ID                Product  Quantity Ordered  Price Each  \\\n",
       "0   248151  AA Batteries (4-pack)                 4        3.84   \n",
       "1   248152   USB-C Charging Cable                 2       11.95   \n",
       "2   248153   USB-C Charging Cable                 1       11.95   \n",
       "3   248154       27in FHD Monitor                 1      149.99   \n",
       "4   248155   USB-C Charging Cable                 1       11.95   \n",
       "\n",
       "           Order Date                       Purchase Address  Mes  \\\n",
       "0 2019-09-17 14:44:00    380 North St, Los Angeles, CA 90001    9   \n",
       "1 2019-09-29 10:19:00           511 8th St, Austin, TX 73301    9   \n",
       "2 2019-09-16 17:48:00  151 Johnson St, Los Angeles, CA 90001    9   \n",
       "3 2019-09-27 07:52:00      355 Hickory St, Seattle, WA 98101    9   \n",
       "4 2019-09-01 19:03:00          125 5th St, Atlanta, GA 30301    9   \n",
       "\n",
       "   Total_Ventas        Ciudad  Hora  \n",
       "0         15.36   Los Angeles    14  \n",
       "1         23.90        Austin    10  \n",
       "2         11.95   Los Angeles    17  \n",
       "3        149.99       Seattle     7  \n",
       "4         11.95       Atlanta    19  "
      ]
     },
     "execution_count": 316,
     "metadata": {},
     "output_type": "execute_result"
    }
   ],
   "source": [
    "df['Hora']=df['Order Date'].apply(lambda x: x.hour)\n",
    "df.head()"
   ]
  },
  {
   "cell_type": "code",
   "execution_count": 317,
   "metadata": {},
   "outputs": [],
   "source": [
    "#agrupacion por las horas \n",
    "df_hour=df.groupby('Hora').sum()\n",
    "df_hour=df_hour.reset_index()"
   ]
  },
  {
   "cell_type": "code",
   "execution_count": 318,
   "metadata": {},
   "outputs": [
    {
     "data": {
      "image/png": "[encoded data removed]",
      "text/plain": [
       "<Figure size 576x396 with 1 Axes>"
      ]
     },
     "metadata": {},
     "output_type": "display_data"
    }
   ],
   "source": [
    "#grafica de lineas\n",
    "plt.plot(df_hour['Total_Ventas'], marker='o')\n",
    "plt.xticks(df_hour['Hora'])\n",
    "plt.title('Ventas por hora del día')\n",
    "\n",
    "plt.show()"
   ]
  },
  {
   "cell_type": "markdown",
   "metadata": {},
   "source": [
    "# CUALES SON LOS PRODUCTOS QUE SE VENDEN JUNTOS"
   ]
  },
  {
   "cell_type": "code",
   "execution_count": 321,
   "metadata": {},
   "outputs": [],
   "source": [
    "df=df[df['Order ID'].duplicated(keep=False)]\n",
    "\n",
    "df['agrupado']=df.groupby(['Order ID'])['Product'].transform(lambda x: ','.join(x))\n",
    "\n",
    "df=df[['Order ID', 'agrupado']].drop_duplicates()"
   ]
  },
  {
   "cell_type": "code",
   "execution_count": 322,
   "metadata": {},
   "outputs": [],
   "source": [
    "import itertools\n",
    "from itertools import combinations #genera el conjutno de combinaciones\n",
    "import collections\n",
    "from collections import Counter #simplemente para realizar conteos"
   ]
  },
  {
   "cell_type": "code",
   "execution_count": 324,
   "metadata": {},
   "outputs": [],
   "source": [
    "count = Counter()\n",
    "\n",
    "for r in df['agrupado']:\n",
    "    filas= r.split(',')\n",
    "    count.update(Counter(combinations(filas, 2)))"
   ]
  },
  {
   "cell_type": "code",
   "execution_count": 326,
   "metadata": {},
   "outputs": [
    {
     "data": {
      "text/plain": [
       "Counter({('USB-C Charging Cable', 'USB-C Charging Cable'): 48,\n",
       "         ('iPhone', 'Lightning Charging Cable'): 1005,\n",
       "         ('Bose SoundSport Headphones', 'Google Phone'): 8,\n",
       "         ('Vareebadd Phone', 'Bose SoundSport Headphones'): 80,\n",
       "         ('Google Phone', 'Bose SoundSport Headphones'): 220,\n",
       "         ('Vareebadd Phone', 'Wired Headphones'): 143,\n",
       "         ('iPhone', 'Apple Airpods Headphones'): 360,\n",
       "         ('Lightning Charging Cable', 'Apple Airpods Headphones'): 81,\n",
       "         ('Bose SoundSport Headphones', '34in Ultrawide Monitor'): 11,\n",
       "         ('Apple Airpods Headphones', 'Lightning Charging Cable'): 35,\n",
       "         ('27in 4K Gaming Monitor', 'AA Batteries (4-pack)'): 12,\n",
       "         ('Vareebadd Phone', 'USB-C Charging Cable'): 361,\n",
       "         ('Lightning Charging Cable', 'Bose SoundSport Headphones'): 39,\n",
       "         ('Lightning Charging Cable', 'AA Batteries (4-pack)'): 55,\n",
       "         ('AA Batteries (4-pack)', 'AA Batteries (4-pack)'): 35,\n",
       "         ('Lightning Charging Cable', '27in FHD Monitor'): 18,\n",
       "         ('Google Phone', 'USB-C Charging Cable'): 987,\n",
       "         ('Google Phone', 'Wired Headphones'): 414,\n",
       "         ('Lightning Charging Cable', 'USB-C Charging Cable'): 58,\n",
       "         ('AA Batteries (4-pack)', 'Lightning Charging Cable'): 51,\n",
       "         ('ThinkPad Laptop', 'AAA Batteries (4-pack)'): 16,\n",
       "         ('iPhone', 'Wired Headphones'): 447,\n",
       "         ('Lightning Charging Cable', 'Wired Headphones'): 92,\n",
       "         ('Apple Airpods Headphones', 'Bose SoundSport Headphones'): 32,\n",
       "         ('Google Phone', '27in FHD Monitor'): 7,\n",
       "         ('Google Phone', '20in Monitor'): 2,\n",
       "         ('Macbook Pro Laptop', 'Google Phone'): 4,\n",
       "         ('USB-C Charging Cable', 'Google Phone'): 12,\n",
       "         ('AA Batteries (4-pack)', '27in FHD Monitor'): 11,\n",
       "         ('USB-C Charging Cable', 'Wired Headphones'): 160,\n",
       "         ('AAA Batteries (4-pack)', 'Lightning Charging Cable'): 44,\n",
       "         ('Wired Headphones', 'AA Batteries (4-pack)'): 39,\n",
       "         ('Apple Airpods Headphones', 'Wired Headphones'): 69,\n",
       "         ('ThinkPad Laptop', 'Lightning Charging Cable'): 11,\n",
       "         ('AAA Batteries (4-pack)', 'AA Batteries (4-pack)'): 39,\n",
       "         ('Flatscreen TV', 'AAA Batteries (4-pack)'): 11,\n",
       "         ('USB-C Charging Cable', 'AAA Batteries (4-pack)'): 45,\n",
       "         ('LG Dryer', 'Lightning Charging Cable'): 1,\n",
       "         ('AAA Batteries (4-pack)', 'Apple Airpods Headphones'): 33,\n",
       "         ('34in Ultrawide Monitor', '34in Ultrawide Monitor'): 7,\n",
       "         ('AAA Batteries (4-pack)', 'AAA Batteries (4-pack)'): 48,\n",
       "         ('Bose SoundSport Headphones', 'Macbook Pro Laptop'): 4,\n",
       "         ('AA Batteries (4-pack)', 'AAA Batteries (4-pack)'): 48,\n",
       "         ('AAA Batteries (4-pack)', 'ThinkPad Laptop'): 11,\n",
       "         ('27in 4K Gaming Monitor', 'USB-C Charging Cable'): 12,\n",
       "         ('Apple Airpods Headphones', 'Apple Airpods Headphones'): 24,\n",
       "         ('AAA Batteries (4-pack)', '27in FHD Monitor'): 22,\n",
       "         ('USB-C Charging Cable', '27in FHD Monitor'): 31,\n",
       "         ('Apple Airpods Headphones', 'AAA Batteries (4-pack)'): 48,\n",
       "         ('Apple Airpods Headphones', 'AA Batteries (4-pack)'): 29,\n",
       "         ('Lightning Charging Cable', '20in Monitor'): 15,\n",
       "         ('LG Dryer', 'AA Batteries (4-pack)'): 4,\n",
       "         ('Wired Headphones', 'iPhone'): 15,\n",
       "         ('Flatscreen TV', 'Lightning Charging Cable'): 10,\n",
       "         ('Wired Headphones', 'Flatscreen TV'): 7,\n",
       "         ('ThinkPad Laptop', 'LG Dryer'): 1,\n",
       "         ('27in FHD Monitor', 'Apple Airpods Headphones'): 12,\n",
       "         ('AAA Batteries (4-pack)', '34in Ultrawide Monitor'): 13,\n",
       "         ('27in FHD Monitor', '34in Ultrawide Monitor'): 5,\n",
       "         ('AAA Batteries (4-pack)', 'Flatscreen TV'): 10,\n",
       "         ('USB-C Charging Cable', '27in 4K Gaming Monitor'): 11,\n",
       "         ('Wired Headphones', 'Wired Headphones'): 35,\n",
       "         ('Wired Headphones', 'Lightning Charging Cable'): 37,\n",
       "         ('Lightning Charging Cable', 'LG Washing Machine'): 4,\n",
       "         ('AA Batteries (4-pack)', 'ThinkPad Laptop'): 9,\n",
       "         ('20in Monitor', 'Lightning Charging Cable'): 11,\n",
       "         ('Apple Airpods Headphones', 'iPhone'): 13,\n",
       "         ('27in FHD Monitor', 'Flatscreen TV'): 2,\n",
       "         ('Bose SoundSport Headphones', 'Wired Headphones'): 53,\n",
       "         ('34in Ultrawide Monitor', 'iPhone'): 7,\n",
       "         ('Wired Headphones', 'Google Phone'): 9,\n",
       "         ('AA Batteries (4-pack)', 'Flatscreen TV'): 13,\n",
       "         ('Bose SoundSport Headphones', '27in FHD Monitor'): 14,\n",
       "         ('Macbook Pro Laptop', 'AA Batteries (4-pack)'): 9,\n",
       "         ('Apple Airpods Headphones', '34in Ultrawide Monitor'): 6,\n",
       "         ('Wired Headphones', 'AAA Batteries (4-pack)'): 43,\n",
       "         ('Apple Airpods Headphones', 'Google Phone'): 14,\n",
       "         ('Wired Headphones', 'USB-C Charging Cable'): 45,\n",
       "         ('27in FHD Monitor', 'AA Batteries (4-pack)'): 15,\n",
       "         ('LG Washing Machine', 'AA Batteries (4-pack)'): 1,\n",
       "         ('AAA Batteries (4-pack)', 'iPhone'): 14,\n",
       "         ('27in 4K Gaming Monitor', 'Wired Headphones'): 11,\n",
       "         ('iPhone', 'AA Batteries (4-pack)'): 14,\n",
       "         ('AA Batteries (4-pack)', 'USB-C Charging Cable'): 37,\n",
       "         ('AAA Batteries (4-pack)', '27in 4K Gaming Monitor'): 15,\n",
       "         ('Wired Headphones', 'Apple Airpods Headphones'): 31,\n",
       "         ('Wired Headphones', '27in 4K Gaming Monitor'): 18,\n",
       "         ('Bose SoundSport Headphones', 'AAA Batteries (4-pack)'): 37,\n",
       "         ('Apple Airpods Headphones', 'USB-C Charging Cable'): 29,\n",
       "         ('27in 4K Gaming Monitor', 'Flatscreen TV'): 3,\n",
       "         ('27in 4K Gaming Monitor', '20in Monitor'): 2,\n",
       "         ('Bose SoundSport Headphones', 'Lightning Charging Cable'): 33,\n",
       "         ('Wired Headphones', '34in Ultrawide Monitor'): 17,\n",
       "         ('Lightning Charging Cable', 'Lightning Charging Cable'): 54,\n",
       "         ('Wired Headphones', 'Bose SoundSport Headphones'): 21,\n",
       "         ('AAA Batteries (4-pack)', 'Macbook Pro Laptop'): 11,\n",
       "         ('ThinkPad Laptop', 'Google Phone'): 3,\n",
       "         ('27in FHD Monitor', 'USB-C Charging Cable'): 12,\n",
       "         ('27in 4K Gaming Monitor', 'Apple Airpods Headphones'): 10,\n",
       "         ('20in Monitor', 'USB-C Charging Cable'): 15,\n",
       "         ('Bose SoundSport Headphones', 'Flatscreen TV'): 10,\n",
       "         ('ThinkPad Laptop', 'Bose SoundSport Headphones'): 9,\n",
       "         ('AAA Batteries (4-pack)', 'USB-C Charging Cable'): 50,\n",
       "         ('AA Batteries (4-pack)', 'Apple Airpods Headphones'): 41,\n",
       "         ('27in FHD Monitor', 'Lightning Charging Cable'): 18,\n",
       "         ('20in Monitor', 'ThinkPad Laptop'): 2,\n",
       "         ('AA Batteries (4-pack)', 'Google Phone'): 11,\n",
       "         ('AAA Batteries (4-pack)', '20in Monitor'): 8,\n",
       "         ('34in Ultrawide Monitor', 'AAA Batteries (4-pack)'): 12,\n",
       "         ('Lightning Charging Cable', '34in Ultrawide Monitor'): 15,\n",
       "         ('Macbook Pro Laptop', 'Macbook Pro Laptop'): 3,\n",
       "         ('Lightning Charging Cable', 'Flatscreen TV'): 12,\n",
       "         ('Lightning Charging Cable', 'AAA Batteries (4-pack)'): 36,\n",
       "         ('USB-C Charging Cable', 'Bose SoundSport Headphones'): 77,\n",
       "         ('USB-C Charging Cable', 'Apple Airpods Headphones'): 34,\n",
       "         ('iPhone', 'AAA Batteries (4-pack)'): 17,\n",
       "         ('Apple Airpods Headphones', '27in 4K Gaming Monitor'): 12,\n",
       "         ('iPhone', 'Macbook Pro Laptop'): 3,\n",
       "         ('20in Monitor', 'Apple Airpods Headphones'): 7,\n",
       "         ('27in 4K Gaming Monitor', 'Bose SoundSport Headphones'): 9,\n",
       "         ('34in Ultrawide Monitor', 'USB-C Charging Cable'): 15,\n",
       "         ('20in Monitor', 'AA Batteries (4-pack)'): 6,\n",
       "         ('20in Monitor', '27in FHD Monitor'): 2,\n",
       "         ('27in FHD Monitor', '27in FHD Monitor'): 9,\n",
       "         ('Lightning Charging Cable', 'ThinkPad Laptop'): 9,\n",
       "         ('34in Ultrawide Monitor', 'Flatscreen TV'): 3,\n",
       "         ('Bose SoundSport Headphones', 'Apple Airpods Headphones'): 18,\n",
       "         ('Lightning Charging Cable', '27in 4K Gaming Monitor'): 18,\n",
       "         ('AAA Batteries (4-pack)', 'Bose SoundSport Headphones'): 20,\n",
       "         ('USB-C Charging Cable', 'AA Batteries (4-pack)'): 38,\n",
       "         ('34in Ultrawide Monitor', 'AA Batteries (4-pack)'): 19,\n",
       "         ('ThinkPad Laptop', 'AA Batteries (4-pack)'): 8,\n",
       "         ('27in 4K Gaming Monitor', '34in Ultrawide Monitor'): 6,\n",
       "         ('Bose SoundSport Headphones', 'USB-C Charging Cable'): 25,\n",
       "         ('27in FHD Monitor', 'ThinkPad Laptop'): 4,\n",
       "         ('34in Ultrawide Monitor', 'ThinkPad Laptop'): 3,\n",
       "         ('LG Dryer', 'AAA Batteries (4-pack)'): 1,\n",
       "         ('AA Batteries (4-pack)', 'Bose SoundSport Headphones'): 28,\n",
       "         ('Bose SoundSport Headphones', '27in 4K Gaming Monitor'): 10,\n",
       "         ('ThinkPad Laptop', 'USB-C Charging Cable'): 9,\n",
       "         ('ThinkPad Laptop', '34in Ultrawide Monitor'): 1,\n",
       "         ('AAA Batteries (4-pack)', 'Google Phone'): 11,\n",
       "         ('Google Phone', 'Apple Airpods Headphones'): 7,\n",
       "         ('iPhone', 'LG Washing Machine'): 1,\n",
       "         ('AA Batteries (4-pack)', 'Macbook Pro Laptop'): 8,\n",
       "         ('Macbook Pro Laptop', 'USB-C Charging Cable'): 12,\n",
       "         ('AA Batteries (4-pack)', 'Wired Headphones'): 44,\n",
       "         ('USB-C Charging Cable', 'Flatscreen TV'): 10,\n",
       "         ('Wired Headphones', 'Macbook Pro Laptop'): 13,\n",
       "         ('Macbook Pro Laptop', 'ThinkPad Laptop'): 3,\n",
       "         ('AAA Batteries (4-pack)', 'Wired Headphones'): 43,\n",
       "         ('Bose SoundSport Headphones', 'Bose SoundSport Headphones'): 27,\n",
       "         ('34in Ultrawide Monitor', 'Wired Headphones'): 11,\n",
       "         ('iPhone', 'USB-C Charging Cable'): 15,\n",
       "         ('Google Phone', 'Lightning Charging Cable'): 12,\n",
       "         ('27in 4K Gaming Monitor', '27in 4K Gaming Monitor'): 5,\n",
       "         ('27in 4K Gaming Monitor', 'Google Phone'): 5,\n",
       "         ('Macbook Pro Laptop', 'AAA Batteries (4-pack)'): 7,\n",
       "         ('USB-C Charging Cable', '20in Monitor'): 10,\n",
       "         ('Macbook Pro Laptop', 'Wired Headphones'): 7,\n",
       "         ('AA Batteries (4-pack)', '34in Ultrawide Monitor'): 13,\n",
       "         ('USB-C Charging Cable', 'iPhone'): 14,\n",
       "         ('USB-C Charging Cable', 'Lightning Charging Cable'): 42,\n",
       "         ('27in FHD Monitor', '20in Monitor'): 3,\n",
       "         ('iPhone', 'Flatscreen TV'): 6,\n",
       "         ('20in Monitor', 'Bose SoundSport Headphones'): 9,\n",
       "         ('27in 4K Gaming Monitor', 'AAA Batteries (4-pack)'): 15,\n",
       "         ('USB-C Charging Cable', 'Macbook Pro Laptop'): 9,\n",
       "         ('Macbook Pro Laptop', 'LG Washing Machine'): 2,\n",
       "         ('USB-C Charging Cable', 'ThinkPad Laptop'): 11,\n",
       "         ('Wired Headphones', '20in Monitor'): 7,\n",
       "         ('34in Ultrawide Monitor', 'Apple Airpods Headphones'): 8,\n",
       "         ('27in FHD Monitor', 'Bose SoundSport Headphones'): 12,\n",
       "         ('Bose SoundSport Headphones', 'AA Batteries (4-pack)'): 27,\n",
       "         ('20in Monitor', 'Google Phone'): 2,\n",
       "         ('Wired Headphones', 'ThinkPad Laptop'): 10,\n",
       "         ('Wired Headphones', '27in FHD Monitor'): 12,\n",
       "         ('AA Batteries (4-pack)', '20in Monitor'): 10,\n",
       "         ('Flatscreen TV', 'Macbook Pro Laptop'): 4,\n",
       "         ('Apple Airpods Headphones', '27in FHD Monitor'): 12,\n",
       "         ('Apple Airpods Headphones', 'Macbook Pro Laptop'): 12,\n",
       "         ('Macbook Pro Laptop', 'Bose SoundSport Headphones'): 11,\n",
       "         ('34in Ultrawide Monitor', 'Macbook Pro Laptop'): 3,\n",
       "         ('AAA Batteries (4-pack)', 'Vareebadd Phone'): 4,\n",
       "         ('27in 4K Gaming Monitor', '27in FHD Monitor'): 4,\n",
       "         ('27in FHD Monitor', 'AAA Batteries (4-pack)'): 21,\n",
       "         ('34in Ultrawide Monitor', 'Lightning Charging Cable'): 18,\n",
       "         ('Macbook Pro Laptop', '27in 4K Gaming Monitor'): 7,\n",
       "         ('Vareebadd Phone', 'Flatscreen TV'): 3,\n",
       "         ('Lightning Charging Cable', 'iPhone'): 10,\n",
       "         ('34in Ultrawide Monitor', 'Bose SoundSport Headphones'): 6,\n",
       "         ('Flatscreen TV', 'Bose SoundSport Headphones'): 3,\n",
       "         ('27in FHD Monitor', 'Macbook Pro Laptop'): 6,\n",
       "         ('AA Batteries (4-pack)', '27in 4K Gaming Monitor'): 14,\n",
       "         ('Flatscreen TV', 'USB-C Charging Cable'): 7,\n",
       "         ('Google Phone', 'AA Batteries (4-pack)'): 14,\n",
       "         ('Macbook Pro Laptop', '34in Ultrawide Monitor'): 4,\n",
       "         ('AA Batteries (4-pack)', 'iPhone'): 18,\n",
       "         ('27in FHD Monitor', 'Wired Headphones'): 10,\n",
       "         ('ThinkPad Laptop', 'Flatscreen TV'): 4,\n",
       "         ('AAA Batteries (4-pack)', 'LG Dryer'): 1,\n",
       "         ('Flatscreen TV', '34in Ultrawide Monitor'): 5,\n",
       "         ('20in Monitor', '20in Monitor'): 3,\n",
       "         ('Wired Headphones', 'Vareebadd Phone'): 6,\n",
       "         ('Flatscreen TV', 'Flatscreen TV'): 6,\n",
       "         ('LG Dryer', '27in 4K Gaming Monitor'): 1,\n",
       "         ('Macbook Pro Laptop', 'Lightning Charging Cable'): 11,\n",
       "         ('iPhone', '20in Monitor'): 2,\n",
       "         ('Google Phone', 'iPhone'): 6,\n",
       "         ('Google Phone', 'ThinkPad Laptop'): 3,\n",
       "         ('27in 4K Gaming Monitor', 'Lightning Charging Cable'): 16,\n",
       "         ('Bose SoundSport Headphones', 'ThinkPad Laptop'): 4,\n",
       "         ('Google Phone', 'Google Phone'): 3,\n",
       "         ('Lightning Charging Cable', 'Macbook Pro Laptop'): 10,\n",
       "         ('27in FHD Monitor', 'Google Phone'): 1,\n",
       "         ('Macbook Pro Laptop', '27in FHD Monitor'): 3,\n",
       "         ('Flatscreen TV', 'Google Phone'): 3,\n",
       "         ('20in Monitor', 'AAA Batteries (4-pack)'): 3,\n",
       "         ('Bose SoundSport Headphones', '20in Monitor'): 6,\n",
       "         ('Apple Airpods Headphones', 'ThinkPad Laptop'): 9,\n",
       "         ('Google Phone', 'Macbook Pro Laptop'): 3,\n",
       "         ('iPhone', '27in 4K Gaming Monitor'): 6,\n",
       "         ('Bose SoundSport Headphones', 'Vareebadd Phone'): 2,\n",
       "         ('Google Phone', 'AAA Batteries (4-pack)'): 11,\n",
       "         ('Bose SoundSport Headphones', 'iPhone'): 7,\n",
       "         ('Vareebadd Phone', 'iPhone'): 3,\n",
       "         ('Vareebadd Phone', '34in Ultrawide Monitor'): 4,\n",
       "         ('Vareebadd Phone', 'AA Batteries (4-pack)'): 9,\n",
       "         ('Lightning Charging Cable', 'Vareebadd Phone'): 3,\n",
       "         ('Apple Airpods Headphones', 'LG Dryer'): 3,\n",
       "         ('34in Ultrawide Monitor', '27in FHD Monitor'): 5,\n",
       "         ('ThinkPad Laptop', 'iPhone'): 3,\n",
       "         ('iPhone', '27in FHD Monitor'): 1,\n",
       "         ('Flatscreen TV', 'ThinkPad Laptop'): 2,\n",
       "         ('Flatscreen TV', 'iPhone'): 4,\n",
       "         ('ThinkPad Laptop', '27in FHD Monitor'): 2,\n",
       "         ('Vareebadd Phone', 'Google Phone'): 4,\n",
       "         ('27in 4K Gaming Monitor', 'Macbook Pro Laptop'): 6,\n",
       "         ('ThinkPad Laptop', 'Apple Airpods Headphones'): 7,\n",
       "         ('Vareebadd Phone', 'Apple Airpods Headphones'): 6,\n",
       "         ('20in Monitor', 'Wired Headphones'): 12,\n",
       "         ('iPhone', 'ThinkPad Laptop'): 4,\n",
       "         ('Apple Airpods Headphones', '20in Monitor'): 6,\n",
       "         ('Vareebadd Phone', '27in FHD Monitor'): 1,\n",
       "         ('AA Batteries (4-pack)', 'Vareebadd Phone'): 3,\n",
       "         ('iPhone', 'Google Phone'): 3,\n",
       "         ('ThinkPad Laptop', '27in 4K Gaming Monitor'): 1,\n",
       "         ('USB-C Charging Cable', '34in Ultrawide Monitor'): 11,\n",
       "         ('Apple Airpods Headphones', 'Flatscreen TV'): 8,\n",
       "         ('Apple Airpods Headphones', 'Vareebadd Phone'): 6,\n",
       "         ('iPhone', 'Vareebadd Phone'): 4,\n",
       "         ('20in Monitor', 'Flatscreen TV'): 1,\n",
       "         ('Flatscreen TV', 'AA Batteries (4-pack)'): 8,\n",
       "         ('27in 4K Gaming Monitor', 'iPhone'): 3,\n",
       "         ('Flatscreen TV', '27in FHD Monitor'): 4,\n",
       "         ('Vareebadd Phone', 'AAA Batteries (4-pack)'): 2,\n",
       "         ('USB-C Charging Cable', 'LG Dryer'): 1,\n",
       "         ('27in FHD Monitor', 'LG Dryer'): 2,\n",
       "         ('20in Monitor', 'Macbook Pro Laptop'): 4,\n",
       "         ('ThinkPad Laptop', 'Wired Headphones'): 4,\n",
       "         ('LG Washing Machine', '20in Monitor'): 1,\n",
       "         ('Flatscreen TV', '20in Monitor'): 1,\n",
       "         ('USB-C Charging Cable', 'Vareebadd Phone'): 7,\n",
       "         ('Macbook Pro Laptop', 'iPhone'): 3,\n",
       "         ('Flatscreen TV', 'Apple Airpods Headphones'): 5,\n",
       "         ('27in 4K Gaming Monitor', 'ThinkPad Laptop'): 4,\n",
       "         ('Vareebadd Phone', '27in 4K Gaming Monitor'): 2,\n",
       "         ('27in FHD Monitor', 'Vareebadd Phone'): 1,\n",
       "         ('LG Washing Machine', '27in 4K Gaming Monitor'): 1,\n",
       "         ('iPhone', 'Bose SoundSport Headphones'): 5,\n",
       "         ('Vareebadd Phone', 'ThinkPad Laptop'): 2,\n",
       "         ('Lightning Charging Cable', 'Google Phone'): 16,\n",
       "         ('Google Phone', '34in Ultrawide Monitor'): 3,\n",
       "         ('LG Washing Machine', 'AAA Batteries (4-pack)'): 4,\n",
       "         ('LG Washing Machine', 'Apple Airpods Headphones'): 1,\n",
       "         ('27in FHD Monitor', '27in 4K Gaming Monitor'): 4,\n",
       "         ('AA Batteries (4-pack)', 'LG Dryer'): 2,\n",
       "         ('27in 4K Gaming Monitor', 'LG Dryer'): 1,\n",
       "         ('20in Monitor', 'LG Washing Machine'): 1,\n",
       "         ('Wired Headphones', 'LG Washing Machine'): 3,\n",
       "         ('LG Dryer', 'Google Phone'): 1,\n",
       "         ('Flatscreen TV', 'Wired Headphones'): 4,\n",
       "         ('34in Ultrawide Monitor', 'LG Washing Machine'): 1,\n",
       "         ('iPhone', 'iPhone'): 2,\n",
       "         ('iPhone', '34in Ultrawide Monitor'): 6,\n",
       "         ('Google Phone', '27in 4K Gaming Monitor'): 1,\n",
       "         ('LG Washing Machine', 'iPhone'): 1,\n",
       "         ('LG Dryer', 'Wired Headphones'): 1,\n",
       "         ('Macbook Pro Laptop', 'Apple Airpods Headphones'): 7,\n",
       "         ('27in FHD Monitor', 'LG Washing Machine'): 1,\n",
       "         ('LG Dryer', '27in FHD Monitor'): 1,\n",
       "         ('20in Monitor', '34in Ultrawide Monitor'): 1,\n",
       "         ('Macbook Pro Laptop', '20in Monitor'): 2,\n",
       "         ('34in Ultrawide Monitor', '20in Monitor'): 1,\n",
       "         ('LG Washing Machine', 'Lightning Charging Cable'): 2,\n",
       "         ('LG Washing Machine', 'Bose SoundSport Headphones'): 2,\n",
       "         ('LG Dryer', 'Flatscreen TV'): 1,\n",
       "         ('LG Washing Machine', 'Google Phone'): 1,\n",
       "         ('LG Washing Machine', 'Wired Headphones'): 1,\n",
       "         ('Macbook Pro Laptop', 'Flatscreen TV'): 1,\n",
       "         ('ThinkPad Laptop', 'Vareebadd Phone'): 1,\n",
       "         ('ThinkPad Laptop', 'ThinkPad Laptop'): 2,\n",
       "         ('Google Phone', 'Flatscreen TV'): 1,\n",
       "         ('ThinkPad Laptop', 'Macbook Pro Laptop'): 2,\n",
       "         ('Google Phone', 'Vareebadd Phone'): 1,\n",
       "         ('Lightning Charging Cable', 'LG Dryer'): 2,\n",
       "         ('20in Monitor', 'iPhone'): 1,\n",
       "         ('LG Dryer', 'Vareebadd Phone'): 1,\n",
       "         ('34in Ultrawide Monitor', 'Google Phone'): 2,\n",
       "         ('27in 4K Gaming Monitor', 'Vareebadd Phone'): 1,\n",
       "         ('Flatscreen TV', '27in 4K Gaming Monitor'): 2,\n",
       "         ('27in FHD Monitor', 'iPhone'): 1,\n",
       "         ('Vareebadd Phone', 'Lightning Charging Cable'): 1})"
      ]
     },
     "execution_count": 326,
     "metadata": {},
     "output_type": "execute_result"
    }
   ],
   "source": [
    "count"
   ]
  },
  {
   "cell_type": "code",
   "execution_count": 328,
   "metadata": {},
   "outputs": [
    {
     "data": {
      "text/plain": [
       "[(('iPhone', 'Lightning Charging Cable'), 1005),\n",
       " (('Google Phone', 'USB-C Charging Cable'), 987),\n",
       " (('iPhone', 'Wired Headphones'), 447),\n",
       " (('Google Phone', 'Wired Headphones'), 414),\n",
       " (('Vareebadd Phone', 'USB-C Charging Cable'), 361),\n",
       " (('iPhone', 'Apple Airpods Headphones'), 360),\n",
       " (('Google Phone', 'Bose SoundSport Headphones'), 220),\n",
       " (('USB-C Charging Cable', 'Wired Headphones'), 160),\n",
       " (('Vareebadd Phone', 'Wired Headphones'), 143),\n",
       " (('Lightning Charging Cable', 'Wired Headphones'), 92)]"
      ]
     },
     "execution_count": 328,
     "metadata": {},
     "output_type": "execute_result"
    }
   ],
   "source": [
    "comunes=count.most_common(10)\n",
    "comunes"
   ]
  },
  {
   "cell_type": "code",
   "execution_count": null,
   "metadata": {},
   "outputs": [],
   "source": []
  }
 ],
 "metadata": {
  "kernelspec": {
   "display_name": "Python 3 (ipykernel)",
   "language": "python",
   "name": "python3"
  },
  "language_info": {
   "codemirror_mode": {
    "name": "ipython",
    "version": 3
   },
   "file_extension": ".py",
   "mimetype": "text/x-python",
   "name": "python",
   "nbconvert_exporter": "python",
   "pygments_lexer": "ipython3",
   "version": "3.9.12"
  }
 },
 "nbformat": 4,
 "nbformat_minor": 4
}
